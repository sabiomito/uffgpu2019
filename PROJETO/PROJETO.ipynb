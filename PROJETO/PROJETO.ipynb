{
  "nbformat": 4,
  "nbformat_minor": 0,
  "metadata": {
    "colab": {
      "name": "PROJETO.ipynb",
      "provenance": [],
      "collapsed_sections": []
    },
    "kernelspec": {
      "name": "python3",
      "display_name": "Python 3"
    },
    "accelerator": "GPU"
  },
  "cells": [
    {
      "cell_type": "code",
      "metadata": {
        "id": "ELYHCh1r1FOw",
        "colab_type": "code",
        "outputId": "ec42fc5d-cf18-473d-9922-1e6f9d9fb6fa",
        "colab": {
          "base_uri": "https://localhost:8080/",
          "height": 153
        }
      },
      "source": [
        "!git clone https://github.com/sabiomito/uffgpu2019.git\n",
        "%cd uffgpu2019/PROJETO"
      ],
      "execution_count": 3,
      "outputs": [
        {
          "output_type": "stream",
          "text": [
            "Cloning into 'uffgpu2019'...\n",
            "remote: Enumerating objects: 135, done.\u001b[K\n",
            "remote: Counting objects: 100% (135/135), done.\u001b[K\n",
            "remote: Compressing objects: 100% (85/85), done.\u001b[K\n",
            "remote: Total 135 (delta 67), reused 115 (delta 47), pack-reused 0\u001b[K\n",
            "Receiving objects: 100% (135/135), 985.24 KiB | 1.28 MiB/s, done.\n",
            "Resolving deltas: 100% (67/67), done.\n",
            "/content/uffgpu2019/PROJETO\n"
          ],
          "name": "stdout"
        }
      ]
    },
    {
      "cell_type": "code",
      "metadata": {
        "id": "6nXV3eWE1eiJ",
        "colab_type": "code",
        "colab": {}
      },
      "source": [
        "!nvcc 3DstencilCPU.cpp  -o go\n",
        "!./go"
      ],
      "execution_count": 0,
      "outputs": []
    },
    {
      "cell_type": "code",
      "metadata": {
        "id": "RqfzxVVh8Otb",
        "colab_type": "code",
        "colab": {
          "base_uri": "https://localhost:8080/",
          "height": 34
        },
        "outputId": "618c069a-a17c-486e-dfd4-72b822b2ded7"
      },
      "source": [
        "!nvcc 3DstencilGPUGlobalMemory.cu  -o go\n",
        "!./go 512 512 160 2"
      ],
      "execution_count": 3,
      "outputs": [
        {
          "output_type": "stream",
          "text": [
            "^C\n"
          ],
          "name": "stdout"
        }
      ]
    },
    {
      "cell_type": "code",
      "metadata": {
        "id": "qmOYFw0HDIGq",
        "colab_type": "code",
        "colab": {
          "base_uri": "https://localhost:8080/",
          "height": 102
        },
        "outputId": "53a63211-f028-4652-f922-2a01e7b2843f"
      },
      "source": [
        "#0.59546\n",
        "!nvcc 3DstencilGPUSharedMemory.cu -o go\n",
        "!./go 32 32 4"
      ],
      "execution_count": 4,
      "outputs": [
        {
          "output_type": "stream",
          "text": [
            "X 32 || Y 32 \n",
            "BX 32 || BY 32\n",
            "GX 1 || GY 1\n",
            "Z 4 \n",
            "[4096,0.63600,-94503384.15656],\n"
          ],
          "name": "stdout"
        }
      ]
    },
    {
      "cell_type": "code",
      "metadata": {
        "id": "sox0tDrPmjah",
        "colab_type": "code",
        "colab": {}
      },
      "source": [
        "!nvcc 3DstencilGPUGlobalMemoryCpuBorder.cu  -o go\n",
        "!./go 4 4 2 4"
      ],
      "execution_count": 0,
      "outputs": []
    },
    {
      "cell_type": "code",
      "metadata": {
        "id": "yIuxD4vHHect",
        "colab_type": "code",
        "colab": {}
      },
      "source": [
        "!nvcc 3DstencilGPUMiciquevicious.cu  -o go\n",
        "!./go 16 16 300000 4"
      ],
      "execution_count": 0,
      "outputs": []
    },
    {
      "cell_type": "code",
      "metadata": {
        "id": "WhYBBg6asMMo",
        "colab_type": "code",
        "colab": {}
      },
      "source": [
        "!nvcc 3DstencilGPUGlobalMemoryCube.cu  -o go\n",
        "!./go 16 16 16 4"
      ],
      "execution_count": 0,
      "outputs": []
    },
    {
      "cell_type": "code",
      "metadata": {
        "id": "IPlDIzeVu-Nt",
        "colab_type": "code",
        "colab": {}
      },
      "source": [
        "from random import randint\n",
        "arquivo = open('entrada.txt', 'w')\n",
        "tam = 16\n",
        "data = []\n",
        "for i in range(tam):\n",
        "  dt = []\n",
        "  for j in range(tam):\n",
        "    dt.append(0)\n",
        "  data.append(dt)\n",
        "\n",
        "\n",
        "for i in range(4):\n",
        "  data[randint(0,tam-1)][randint(0,tam-1)] = randint(0,256)\n",
        "\n",
        "\n",
        "for i in range(tam):\n",
        "  txt = \"\"\n",
        "  for j in range(tam):\n",
        "    txt+=\" \"+str(data[i][j])\n",
        "  arquivo.write(txt+\"\\n\")\n",
        "arquivo.close()"
      ],
      "execution_count": 0,
      "outputs": []
    },
    {
      "cell_type": "code",
      "metadata": {
        "id": "Ow63ghdv2mP3",
        "colab_type": "code",
        "colab": {}
      },
      "source": [
        "!gcc 2DstencilCPU.cpp -o go\n",
        "!./go 16 8 4"
      ],
      "execution_count": 0,
      "outputs": []
    },
    {
      "cell_type": "code",
      "metadata": {
        "id": "xdsmBla_wqou",
        "colab_type": "code",
        "colab": {
          "base_uri": "https://localhost:8080/",
          "height": 513
        },
        "outputId": "48356734-d60d-4f2a-fff7-2ae0b3306574"
      },
      "source": [
        "from matplotlib import pyplot as plt\n",
        "arquivo = open('entrada.txt', 'r')\n",
        "img = []\n",
        "for linha in arquivo:\n",
        "    img.append(list(map(int,linha.split())))\n",
        "#print(img)\n",
        "arquivo.close()\n",
        "plt.imshow(img,cmap='plasma')\n",
        "plt.show()\n",
        "\n",
        "from matplotlib import pyplot as plt\n",
        "arquivo = open('resultado.txt', 'r')\n",
        "img = []\n",
        "for linha in arquivo:\n",
        "    img.append(list(map(int,linha.split())))\n",
        "#print(img)\n",
        "arquivo.close()\n",
        "plt.imshow(img,cmap='plasma')\n",
        "plt.show()"
      ],
      "execution_count": 10,
      "outputs": [
        {
          "output_type": "display_data",
          "data": {
            "image/png": "[encoded data removed]",
            "text/plain": [
              "<Figure size 432x288 with 1 Axes>"
            ]
          },
          "metadata": {
            "tags": []
          }
        },
        {
          "output_type": "display_data",
          "data": {
            "image/png": "[encoded data removed]",
            "text/plain": [
              "<Figure size 432x288 with 1 Axes>"
            ]
          },
          "metadata": {
            "tags": []
          }
        }
      ]
    }
  ]
}