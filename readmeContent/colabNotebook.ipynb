{
  "nbformat": 4,
  "nbformat_minor": 0,
  "metadata": {
    "colab": {
      "name": "PROJETO.ipynb",
      "provenance": [],
      "collapsed_sections": [],
      "toc_visible": true
    },
    "kernelspec": {
      "name": "python3",
      "display_name": "Python 3"
    },
    "accelerator": "GPU"
  },
  "cells": [
    {
      "cell_type": "code",
      "metadata": {
        "id": "ELYHCh1r1FOw",
        "colab_type": "code",
        "outputId": "11df5b87-783a-4ee8-e546-a1b19dc8b944",
        "colab": {
          "base_uri": "https://localhost:8080/",
          "height": 204
        }
      },
      "source": [
        "!git clone https://github.com/sabiomito/uffgpu2019.git\n",
        "%cd uffgpu2019\n",
        "!git checkout linuxRealTime\n",
        "%cd PROJETO"
      ],
      "execution_count": 1,
      "outputs": [
        {
          "output_type": "stream",
          "text": [
            "Cloning into 'uffgpu2019'...\n",
            "remote: Enumerating objects: 212, done.\u001b[K\n",
            "remote: Counting objects: 100% (212/212), done.\u001b[K\n",
            "remote: Compressing objects: 100% (136/136), done.\u001b[K\n",
            "remote: Total 212 (delta 119), reused 166 (delta 73), pack-reused 0\u001b[K\n",
            "Receiving objects: 100% (212/212), 1.12 MiB | 2.43 MiB/s, done.\n",
            "Resolving deltas: 100% (119/119), done.\n",
            "/content/uffgpu2019\n",
            "Branch 'linuxRealTime' set up to track remote branch 'linuxRealTime' from 'origin'.\n",
            "Switched to a new branch 'linuxRealTime'\n",
            "/content/uffgpu2019/PROJETO\n"
          ],
          "name": "stdout"
        }
      ]
    },
    {
      "cell_type": "code",
      "metadata": {
        "id": "6nXV3eWE1eiJ",
        "colab_type": "code",
        "colab": {}
      },
      "source": [
        "!nvcc 3DstencilCPU.cpp  -o go\n",
        "!./go"
      ],
      "execution_count": 0,
      "outputs": []
    },
    {
      "cell_type": "code",
      "metadata": {
        "id": "RqfzxVVh8Otb",
        "colab_type": "code",
        "outputId": "618c069a-a17c-486e-dfd4-72b822b2ded7",
        "colab": {
          "base_uri": "https://localhost:8080/",
          "height": 34
        }
      },
      "source": [
        "!nvcc 3DstencilGPUGlobalMemory.cu  -o go\n",
        "!./go 512 512 160 2"
      ],
      "execution_count": 0,
      "outputs": [
        {
          "output_type": "stream",
          "text": [
            "^C\n"
          ],
          "name": "stdout"
        }
      ]
    },
    {
      "cell_type": "code",
      "metadata": {
        "id": "qmOYFw0HDIGq",
        "colab_type": "code",
        "outputId": "53a63211-f028-4652-f922-2a01e7b2843f",
        "colab": {
          "base_uri": "https://localhost:8080/",
          "height": 102
        }
      },
      "source": [
        "#0.59546\n",
        "!nvcc 3DstencilGPUSharedMemory.cu -o go\n",
        "!./go 32 32 4"
      ],
      "execution_count": 0,
      "outputs": [
        {
          "output_type": "stream",
          "text": [
            "X 32 || Y 32 \n",
            "BX 32 || BY 32\n",
            "GX 1 || GY 1\n",
            "Z 4 \n",
            "[4096,0.63600,-94503384.15656],\n"
          ],
          "name": "stdout"
        }
      ]
    },
    {
      "cell_type": "code",
      "metadata": {
        "id": "sox0tDrPmjah",
        "colab_type": "code",
        "colab": {}
      },
      "source": [
        "!nvcc 3DstencilGPUGlobalMemoryCpuBorder.cu  -o go\n",
        "!./go 4 4 2 4"
      ],
      "execution_count": 0,
      "outputs": []
    },
    {
      "cell_type": "code",
      "metadata": {
        "id": "yIuxD4vHHect",
        "colab_type": "code",
        "outputId": "0df5ba79-f9a0-4d74-b927-6c436c74817b",
        "colab": {
          "base_uri": "https://localhost:8080/",
          "height": 170
        }
      },
      "source": [
        "!nvcc 3DstencilGPUMiciquevicious.cu  -o go\n",
        "!./go 16 16 80 4"
      ],
      "execution_count": 0,
      "outputs": [
        {
          "output_type": "stream",
          "text": [
            "3DstencilGPUMiciquevicious.cu(93): warning: variable \"times\" was set but never used\n",
            "\n",
            "3DstencilGPUMiciquevicious.cu(106): warning: variable \"k\" was set but never used\n",
            "\n",
            "X 16 || Y 16 \n",
            "BX 16 || BY 16\n",
            "GX 1 || GY 1\n",
            "Z 80 \n",
            "[20480,0.11018,-94788047.29772],\n"
          ],
          "name": "stdout"
        }
      ]
    },
    {
      "cell_type": "code",
      "metadata": {
        "id": "WhYBBg6asMMo",
        "colab_type": "code",
        "colab": {}
      },
      "source": [
        "!nvcc 3DstencilGPUGlobalMemoryCube.cu  -o go\n",
        "!./go 16 16 16 4"
      ],
      "execution_count": 0,
      "outputs": []
    },
    {
      "cell_type": "code",
      "metadata": {
        "id": "IPlDIzeVu-Nt",
        "colab_type": "code",
        "outputId": "12397f73-7296-4196-dd90-40e03f53a58e",
        "colab": {
          "base_uri": "https://localhost:8080/",
          "height": 268
        }
      },
      "source": [
        "from random import randint\n",
        "from random import seed\n",
        "arquivo = open('entrada.txt', 'w')\n",
        "tam = 96\n",
        "data = []\n",
        "for i in range(tam):\n",
        "  dt = []\n",
        "  for j in range(tam):\n",
        "    if(j<10):#(j>tam/2-5 and j<tam/2+4):# and i>128 and i<1024-128):# or (j>120 and j<130 and i >120 and i<130)):\n",
        "      dt.append(3)\n",
        "    else:\n",
        "      dt.append(0)\n",
        "    \n",
        "  data.append(dt)\n",
        "\n",
        "\n",
        "#seed(30)\n",
        "#for i in range(tam):\n",
        "#  data[randint(0,tam-1)][randint(0,tam-1)] = 3\n",
        "\n",
        "\n",
        "for i in range(tam):\n",
        "  txt = \"\"\n",
        "  for j in range(tam):\n",
        "    txt+=\" \"+str(data[i][j])\n",
        "  arquivo.write(txt+\"\\n\")\n",
        "arquivo.close()\n",
        "\n",
        "\n",
        "from matplotlib import pyplot as plt\n",
        "arquivo = open('entrada.txt', 'r')\n",
        "img = []\n",
        "for linha in arquivo:\n",
        "    img.append(list(map(int,linha.split())))\n",
        "#print(img)\n",
        "arquivo.close()\n",
        "plt.imshow(img,cmap='plasma')\n",
        "plt.show()"
      ],
      "execution_count": 2,
      "outputs": [
        {
          "output_type": "display_data",
          "data": {
            "image/png": "[encoded data removed]",
            "text/plain": [
              "<Figure size 432x288 with 1 Axes>"
            ]
          },
          "metadata": {
            "tags": []
          }
        }
      ]
    },
    {
      "cell_type": "code",
      "metadata": {
        "id": "Ow63ghdv2mP3",
        "colab_type": "code",
        "outputId": "f42f091a-ccc7-4a8b-d8bd-015db31b5956",
        "colab": {
          "base_uri": "https://localhost:8080/",
          "height": 85
        }
      },
      "source": [
        "!gcc 2DstencilCPU.cpp -o go\n",
        "!./go 64 2 8\n"
      ],
      "execution_count": 0,
      "outputs": [
        {
          "output_type": "stream",
          "text": [
            "\n",
            " coefs \n",
            " 1.000000 0.500000\n",
            " coefs \n"
          ],
          "name": "stdout"
        }
      ]
    },
    {
      "cell_type": "code",
      "metadata": {
        "id": "IH0LHWPr1Jxo",
        "colab_type": "code",
        "outputId": "65ab5ebb-23c5-4d5a-c7a3-2734ea96f564",
        "colab": {
          "base_uri": "https://localhost:8080/",
          "height": 136
        }
      },
      "source": [
        "!nvcc 2DstencilGPUGlobalMemory.cu  -o go\n",
        "!./go 64 8 1"
      ],
      "execution_count": 0,
      "outputs": [
        {
          "output_type": "stream",
          "text": [
            "\n",
            " coefs \n",
            " 1.000000 0.800000 0.600000 0.400000 0.200000\n",
            " coefs \n",
            "X 64 || Y 64 \n",
            "BX 32 || BY 32 \n",
            "[4096,0.03622],\n"
          ],
          "name": "stdout"
        }
      ]
    },
    {
      "cell_type": "code",
      "metadata": {
        "id": "ACibg70g8xeb",
        "colab_type": "code",
        "outputId": "ad6110a3-f593-430f-d7b8-b07cca92a65b",
        "colab": {
          "base_uri": "https://localhost:8080/",
          "height": 136
        }
      },
      "source": [
        "!nvcc 2DstencilGPUGlobalMemoryCPUBorder.cu  -o go\n",
        "!./go 4096 8 4"
      ],
      "execution_count": 0,
      "outputs": [
        {
          "output_type": "stream",
          "text": [
            "\n",
            " coefs \n",
            " 1.000000 0.800000 0.600000 0.400000 0.200000\n",
            " coefs \n",
            "X 64 || Y 64 \n",
            "BX 32 || BY 32 \n",
            "[4096,0.21747],\n"
          ],
          "name": "stdout"
        }
      ]
    },
    {
      "cell_type": "code",
      "metadata": {
        "id": "1y-Q_KnB4SoB",
        "colab_type": "code",
        "outputId": "90b00c12-deaa-40df-ead5-4b89b67e5f26",
        "colab": {
          "base_uri": "https://localhost:8080/",
          "height": 136
        }
      },
      "source": [
        "!nvcc 2DstencilGPUGlobalMemoryBlankBorder.cu  -o go\n",
        "!./go 64 2 30"
      ],
      "execution_count": 0,
      "outputs": [
        {
          "output_type": "stream",
          "text": [
            "\n",
            " coefs \n",
            " 1.000000 0.500000\n",
            " coefs \n",
            "X 64 || Y 64 \n",
            "BX 32 || BY 32 \n",
            "[4096,0.29696],\n"
          ],
          "name": "stdout"
        }
      ]
    },
    {
      "cell_type": "code",
      "metadata": {
        "id": "20jvOzvO9IXd",
        "colab_type": "code",
        "outputId": "52379b92-8330-4a5e-a8ea-937d976d2892",
        "colab": {
          "base_uri": "https://localhost:8080/",
          "height": 136
        }
      },
      "source": [
        "!nvcc 2DstencilGPUSharedMemoryBlankBorder.cu  -o go\n",
        "!./go 4096 16 32"
      ],
      "execution_count": 0,
      "outputs": [
        {
          "output_type": "stream",
          "text": [
            "\n",
            " coefs \n",
            " 1.000000 0.888889 0.777778 0.666667 0.555556 0.444444 0.333333 0.222222 0.111111\n",
            " coefs \n",
            "X 4096 || Y 4096 \n",
            "BX 32 || BY 32 \n",
            "[16777216,208.23654],\n"
          ],
          "name": "stdout"
        }
      ]
    },
    {
      "cell_type": "code",
      "metadata": {
        "id": "jE3SfQGqE_uD",
        "colab_type": "code",
        "outputId": "a0978978-25c4-4e13-c000-29347851e49c",
        "colab": {
          "base_uri": "https://localhost:8080/",
          "height": 170
        }
      },
      "source": [
        "!nvcc 2DstencilGPUSharedMemoryBlankBorderTimeSpaceSharing.cu  -o go\n",
        "!./go 4096 2 3 32 32"
      ],
      "execution_count": 0,
      "outputs": [
        {
          "output_type": "stream",
          "text": [
            "2DstencilGPUSharedMemoryBlankBorderTimeSpaceSharing.cu(97): warning: variable \"sharedTam\" was declared but never referenced\n",
            "\n",
            "\n",
            " coefs \n",
            " 1.000000 0.500000\n",
            " coefs \n",
            "X 4096 || Y 4096 \n",
            "BX 32 || BY 32 \n",
            "[16777216,6.02253],\n"
          ],
          "name": "stdout"
        }
      ]
    },
    {
      "cell_type": "code",
      "metadata": {
        "id": "MScGXJXGKzyU",
        "colab_type": "code",
        "colab": {}
      },
      "source": [
        "import os\n",
        "def compile(steps):\n",
        "  !nvcc 2DstencilGPUSharedMemoryKarma.cu  -o go\n",
        "  string = \"./go \"+str(steps)\n",
        "  print(string)\n",
        "  os.system(string)\n",
        "  #!./go steps\n",
        "\n",
        "\n",
        "def compile2(size,order,steps):\n",
        "  !nvcc 2DstencilGPUSharedMemoryKarmaSpaceTimeBlocking.cu  -o go\n",
        "  string = \"./go \"+str(size)+\" \"+str(order)+\" \"+str(steps)\n",
        "  print(string)\n",
        "  os.system(string)\n",
        "  #!./go steps\n",
        "\n",
        "def show():\n",
        "  arquivo = open('resultado.txt', 'r')\n",
        "  img = []\n",
        "  for linha in arquivo:\n",
        "    img.append(list(map(float,linha.split())))\n",
        "  arquivo.close()\n",
        "  plt.imshow(img,cmap='plasma')\n",
        "  plt.show()\n",
        "  return img\n",
        "  #for i in img:\n",
        "  #  print(i)"
      ],
      "execution_count": 0,
      "outputs": []
    },
    {
      "cell_type": "code",
      "metadata": {
        "id": "UOPU4KSQi_xG",
        "colab_type": "code",
        "colab": {}
      },
      "source": [
        "!nvcc 2DstencilGPUGlobalMemoryBlankBorder.cu -o runGlobal && nvcc 2DstencilGPUSharedMemoryBlankBorder.cu -o runShared && nvcc 2DstencilGPUSharedMemoryBlankBorderTimeSpaceSharing.cu -o runTime && ./runGlobal 4096 4 1 > Global_4096_4.txt && echo 4096 4 1 && ./runGlobal 4096 4 2 >> Global_4096_4.txt && echo 4096 4 2 && ./runGlobal 4096 4 3 >> Global_4096_4.txt && echo 4096 4 3 && ./runGlobal 4096 4 4 >> Global_4096_4.txt && echo 4096 4 4 && ./runGlobal 4096 4 5 >> Global_4096_4.txt && echo 4096 4 5 && ./runGlobal 4096 4 6 >> Global_4096_4.txt && echo 4096 4 6 && ./runGlobal 4096 4 7 >> Global_4096_4.txt && echo 4096 4 7 && ./runGlobal 4096 4 8 >> Global_4096_4.txt && echo 4096 4 8 && ./runGlobal 4096 4 9 >> Global_4096_4.txt && echo 4096 4 9 && ./runGlobal 4096 4 10 >> Global_4096_4.txt && echo 4096 4 1 && ./runGlobal 4096 4 11 >> Global_4096_4.txt && echo 4096 4 1 && ./runShared 4096 4 1 > Shared_4096_4.txt && echo 4096 4 1 && ./runShared 4096 4 2 >> Shared_4096_4.txt && echo 4096 4 2 && ./runShared 4096 4 3 >> Shared_4096_4.txt && echo 4096 4 3 && ./runShared 4096 4 4 >> Shared_4096_4.txt && echo 4096 4 4 && ./runShared 4096 4 5 >> Shared_4096_4.txt && echo 4096 4 5 && ./runShared 4096 4 6 >> Shared_4096_4.txt && echo 4096 4 6 && ./runShared 4096 4 7 >> Shared_4096_4.txt && echo 4096 4 7 && ./runShared 4096 4 8 >> Shared_4096_4.txt && echo 4096 4 8 && ./runShared 4096 4 9 >> Shared_4096_4.txt && echo 4096 4 9 && ./runShared 4096 4 10 >> Shared_4096_4.txt && echo 4096 4 1 && ./runShared 4096 4 11 >> Shared_4096_4.txt && echo 4096 4 1 && ./runTime 4096 4 1 > Time_4096_4.txt && echo 4096 4 1 && ./runTime 4096 4 2 >> Time_4096_4.txt && echo 4096 4 2 && ./runTime 4096 4 3 >> Time_4096_4.txt && echo 4096 4 3 && ./runTime 4096 4 4 >> Time_4096_4.txt && echo 4096 4 4 && ./runTime 4096 4 5 >> Time_4096_4.txt && echo 4096 4 5 && ./runTime 4096 4 6 >> Time_4096_4.txt && echo 4096 4 6 && ./runTime 4096 4 7 >> Time_4096_4.txt && echo 4096 4 7 && ./runTime 4096 4 8 >> Time_4096_4.txt && echo 4096 4 8 && ./runTime 4096 4 9 >> Time_4096_4.txt && echo 4096 4 9 && ./runTime 4096 4 10 >> Time_4096_4.txt && echo 4096 4 1 && ./runTime 4096 4 11 >> Time_4096_4.txt && echo 4096 4 1  "
      ],
      "execution_count": 0,
      "outputs": []
    },
    {
      "cell_type": "code",
      "metadata": {
        "id": "xdsmBla_wqou",
        "colab_type": "code",
        "colab": {}
      },
      "source": [
        "from matplotlib import pyplot as plt\n",
        "def saveToGif(t):\n",
        "  arquivo = open('resultado.txt', 'r')\n",
        "  img = []\n",
        "  for linha in arquivo:\n",
        "    img.append(list(map(float,linha.split())))\n",
        "  arquivo.close()\n",
        "  plt.imshow(img,cmap='plasma')\n",
        "  name = \"animatedFolder/animated\"+str(t)\n",
        "  plt.savefig(name)\n",
        "  return(name+\".png\")\n",
        "  #plt.show()"
      ],
      "execution_count": 0,
      "outputs": []
    },
    {
      "cell_type": "code",
      "metadata": {
        "id": "9jCJC2vZVrx5",
        "colab_type": "code",
        "outputId": "189cc128-969f-40b2-ec65-ddb748160df2",
        "colab": {
          "base_uri": "https://localhost:8080/",
          "height": 267
        }
      },
      "source": [
        "from matplotlib import pyplot as plt\n",
        "arquivo = open('resultado.txt', 'r')\n",
        "img = []\n",
        "for linha in arquivo:\n",
        "  img.append(list(map(float,linha.split())))\n",
        "arquivo.close()\n",
        "plt.imshow(img,cmap='plasma')\n",
        "plt.show()"
      ],
      "execution_count": 0,
      "outputs": [
        {
          "output_type": "display_data",
          "data": {
            "image/png": "[encoded data removed]",
            "text/plain": [
              "<Figure size 432x288 with 1 Axes>"
            ]
          },
          "metadata": {
            "tags": []
          }
        }
      ]
    },
    {
      "cell_type": "code",
      "metadata": {
        "id": "TebtksWMN_Kd",
        "colab_type": "code",
        "outputId": "669084cf-e69e-45eb-8b02-816d3182a781",
        "colab": {
          "base_uri": "https://localhost:8080/",
          "height": 1000
        }
      },
      "source": [
        "\n",
        "import imageio\n",
        "'''\n",
        "filenames = []\n",
        "for i in range(1,12000,200):\n",
        "  compile(i)\n",
        "  filenames.append(saveToGif(i))\n",
        "images = []\n",
        "for filename in filenames:\n",
        "    images.append(imageio.imread(filename))\n",
        "imageio.mimsave('animatedFolder/animated.gif', images)\n",
        "'''\n",
        "\n",
        "for times in range(1,10,1):\n",
        "  filenames = []\n",
        "  for i in range(1,12000,200):\n",
        "    compile2(96,times,i)\n",
        "    filenames.append(saveToGif(i))\n",
        "  images = []\n",
        "  for filename in filenames:\n",
        "      images.append(imageio.imread(filename))\n",
        "  imageio.mimsave('animatedFolder/animated'+str(times)+'.gif', images)"
      ],
      "execution_count": 8,
      "outputs": [
        {
          "output_type": "stream",
          "text": [
            "./go 96 1 1\n",
            "./go 96 1 201\n",
            "./go 96 1 401\n",
            "./go 96 1 601\n",
            "./go 96 1 801\n",
            "./go 96 1 1001\n",
            "./go 96 1 1201\n",
            "./go 96 1 1401\n",
            "./go 96 1 1601\n",
            "./go 96 1 1801\n",
            "./go 96 1 2001\n",
            "./go 96 1 2201\n",
            "./go 96 1 2401\n",
            "./go 96 1 2601\n",
            "./go 96 1 2801\n",
            "./go 96 1 3001\n",
            "./go 96 1 3201\n",
            "./go 96 1 3401\n",
            "./go 96 1 3601\n",
            "./go 96 1 3801\n",
            "./go 96 1 4001\n",
            "./go 96 1 4201\n",
            "./go 96 1 4401\n",
            "./go 96 1 4601\n",
            "./go 96 1 4801\n",
            "./go 96 1 5001\n",
            "./go 96 1 5201\n",
            "./go 96 1 5401\n",
            "./go 96 1 5601\n",
            "./go 96 1 5801\n",
            "./go 96 1 6001\n",
            "./go 96 1 6201\n",
            "./go 96 1 6401\n",
            "./go 96 1 6601\n",
            "./go 96 1 6801\n",
            "./go 96 1 7001\n",
            "./go 96 1 7201\n",
            "./go 96 1 7401\n",
            "./go 96 1 7601\n",
            "./go 96 1 7801\n",
            "./go 96 1 8001\n",
            "./go 96 1 8201\n",
            "./go 96 1 8401\n",
            "./go 96 1 8601\n",
            "./go 96 1 8801\n",
            "./go 96 1 9001\n",
            "./go 96 1 9201\n",
            "./go 96 1 9401\n",
            "./go 96 1 9601\n",
            "./go 96 1 9801\n",
            "./go 96 1 10001\n",
            "./go 96 1 10201\n",
            "./go 96 1 10401\n",
            "./go 96 1 10601\n",
            "./go 96 1 10801\n",
            "./go 96 1 11001\n",
            "./go 96 1 11201\n",
            "./go 96 1 11401\n",
            "./go 96 1 11601\n",
            "./go 96 1 11801\n",
            "./go 96 2 1\n",
            "./go 96 2 201\n",
            "./go 96 2 401\n",
            "./go 96 2 601\n",
            "./go 96 2 801\n",
            "./go 96 2 1001\n",
            "./go 96 2 1201\n",
            "./go 96 2 1401\n",
            "./go 96 2 1601\n",
            "./go 96 2 1801\n",
            "./go 96 2 2001\n",
            "./go 96 2 2201\n",
            "./go 96 2 2401\n",
            "./go 96 2 2601\n",
            "./go 96 2 2801\n",
            "./go 96 2 3001\n",
            "./go 96 2 3201\n",
            "./go 96 2 3401\n",
            "./go 96 2 3601\n",
            "./go 96 2 3801\n",
            "./go 96 2 4001\n",
            "./go 96 2 4201\n",
            "./go 96 2 4401\n",
            "./go 96 2 4601\n",
            "./go 96 2 4801\n",
            "./go 96 2 5001\n",
            "./go 96 2 5201\n",
            "./go 96 2 5401\n",
            "./go 96 2 5601\n",
            "./go 96 2 5801\n",
            "./go 96 2 6001\n",
            "./go 96 2 6201\n",
            "./go 96 2 6401\n",
            "./go 96 2 6601\n",
            "./go 96 2 6801\n",
            "./go 96 2 7001\n",
            "./go 96 2 7201\n",
            "./go 96 2 7401\n",
            "./go 96 2 7601\n",
            "./go 96 2 7801\n",
            "./go 96 2 8001\n",
            "./go 96 2 8201\n",
            "./go 96 2 8401\n",
            "./go 96 2 8601\n",
            "./go 96 2 8801\n",
            "./go 96 2 9001\n",
            "./go 96 2 9201\n",
            "./go 96 2 9401\n",
            "./go 96 2 9601\n",
            "./go 96 2 9801\n",
            "./go 96 2 10001\n",
            "./go 96 2 10201\n",
            "./go 96 2 10401\n",
            "./go 96 2 10601\n",
            "./go 96 2 10801\n",
            "./go 96 2 11001\n",
            "./go 96 2 11201\n",
            "./go 96 2 11401\n",
            "./go 96 2 11601\n",
            "./go 96 2 11801\n",
            "./go 96 3 1\n",
            "./go 96 3 201\n",
            "./go 96 3 401\n",
            "./go 96 3 601\n",
            "./go 96 3 801\n",
            "./go 96 3 1001\n",
            "./go 96 3 1201\n",
            "./go 96 3 1401\n",
            "./go 96 3 1601\n",
            "./go 96 3 1801\n",
            "./go 96 3 2001\n",
            "./go 96 3 2201\n",
            "./go 96 3 2401\n",
            "./go 96 3 2601\n",
            "./go 96 3 2801\n",
            "./go 96 3 3001\n",
            "./go 96 3 3201\n",
            "./go 96 3 3401\n",
            "./go 96 3 3601\n",
            "./go 96 3 3801\n",
            "./go 96 3 4001\n",
            "./go 96 3 4201\n",
            "./go 96 3 4401\n",
            "./go 96 3 4601\n",
            "./go 96 3 4801\n",
            "./go 96 3 5001\n",
            "./go 96 3 5201\n",
            "./go 96 3 5401\n",
            "./go 96 3 5601\n",
            "./go 96 3 5801\n",
            "./go 96 3 6001\n",
            "./go 96 3 6201\n",
            "./go 96 3 6401\n",
            "./go 96 3 6601\n",
            "./go 96 3 6801\n",
            "./go 96 3 7001\n",
            "./go 96 3 7201\n",
            "./go 96 3 7401\n",
            "./go 96 3 7601\n",
            "./go 96 3 7801\n",
            "./go 96 3 8001\n",
            "./go 96 3 8201\n",
            "./go 96 3 8401\n",
            "./go 96 3 8601\n",
            "./go 96 3 8801\n",
            "./go 96 3 9001\n",
            "./go 96 3 9201\n",
            "./go 96 3 9401\n",
            "./go 96 3 9601\n",
            "./go 96 3 9801\n",
            "./go 96 3 10001\n",
            "./go 96 3 10201\n",
            "./go 96 3 10401\n",
            "./go 96 3 10601\n",
            "./go 96 3 10801\n",
            "./go 96 3 11001\n",
            "./go 96 3 11201\n",
            "./go 96 3 11401\n",
            "./go 96 3 11601\n",
            "./go 96 3 11801\n",
            "./go 96 4 1\n",
            "./go 96 4 201\n",
            "./go 96 4 401\n",
            "./go 96 4 601\n",
            "./go 96 4 801\n",
            "./go 96 4 1001\n",
            "./go 96 4 1201\n",
            "./go 96 4 1401\n",
            "./go 96 4 1601\n",
            "./go 96 4 1801\n",
            "./go 96 4 2001\n",
            "./go 96 4 2201\n",
            "./go 96 4 2401\n",
            "./go 96 4 2601\n",
            "./go 96 4 2801\n",
            "./go 96 4 3001\n",
            "./go 96 4 3201\n",
            "./go 96 4 3401\n",
            "./go 96 4 3601\n",
            "./go 96 4 3801\n",
            "./go 96 4 4001\n",
            "./go 96 4 4201\n",
            "./go 96 4 4401\n",
            "./go 96 4 4601\n",
            "./go 96 4 4801\n",
            "./go 96 4 5001\n",
            "./go 96 4 5201\n",
            "./go 96 4 5401\n",
            "./go 96 4 5601\n",
            "./go 96 4 5801\n",
            "./go 96 4 6001\n",
            "./go 96 4 6201\n",
            "./go 96 4 6401\n",
            "./go 96 4 6601\n",
            "./go 96 4 6801\n",
            "./go 96 4 7001\n",
            "./go 96 4 7201\n",
            "./go 96 4 7401\n",
            "./go 96 4 7601\n",
            "./go 96 4 7801\n",
            "./go 96 4 8001\n",
            "./go 96 4 8201\n",
            "./go 96 4 8401\n",
            "./go 96 4 8601\n",
            "./go 96 4 8801\n",
            "./go 96 4 9001\n",
            "./go 96 4 9201\n",
            "./go 96 4 9401\n",
            "./go 96 4 9601\n",
            "./go 96 4 9801\n",
            "./go 96 4 10001\n",
            "./go 96 4 10201\n",
            "./go 96 4 10401\n",
            "./go 96 4 10601\n",
            "./go 96 4 10801\n",
            "./go 96 4 11001\n",
            "./go 96 4 11201\n",
            "./go 96 4 11401\n",
            "./go 96 4 11601\n",
            "./go 96 4 11801\n",
            "./go 96 5 1\n",
            "./go 96 5 201\n",
            "./go 96 5 401\n",
            "./go 96 5 601\n",
            "./go 96 5 801\n",
            "./go 96 5 1001\n",
            "./go 96 5 1201\n",
            "./go 96 5 1401\n",
            "./go 96 5 1601\n",
            "./go 96 5 1801\n",
            "./go 96 5 2001\n",
            "./go 96 5 2201\n",
            "./go 96 5 2401\n",
            "./go 96 5 2601\n",
            "./go 96 5 2801\n",
            "./go 96 5 3001\n",
            "./go 96 5 3201\n",
            "./go 96 5 3401\n",
            "./go 96 5 3601\n",
            "./go 96 5 3801\n",
            "./go 96 5 4001\n",
            "./go 96 5 4201\n",
            "./go 96 5 4401\n",
            "./go 96 5 4601\n",
            "./go 96 5 4801\n",
            "./go 96 5 5001\n",
            "./go 96 5 5201\n",
            "./go 96 5 5401\n",
            "./go 96 5 5601\n",
            "./go 96 5 5801\n",
            "./go 96 5 6001\n",
            "./go 96 5 6201\n",
            "./go 96 5 6401\n",
            "./go 96 5 6601\n",
            "./go 96 5 6801\n",
            "./go 96 5 7001\n",
            "./go 96 5 7201\n",
            "./go 96 5 7401\n",
            "./go 96 5 7601\n",
            "./go 96 5 7801\n",
            "./go 96 5 8001\n",
            "./go 96 5 8201\n",
            "./go 96 5 8401\n",
            "./go 96 5 8601\n",
            "./go 96 5 8801\n",
            "./go 96 5 9001\n",
            "./go 96 5 9201\n",
            "./go 96 5 9401\n",
            "./go 96 5 9601\n",
            "./go 96 5 9801\n",
            "./go 96 5 10001\n",
            "./go 96 5 10201\n",
            "./go 96 5 10401\n",
            "./go 96 5 10601\n",
            "./go 96 5 10801\n",
            "./go 96 5 11001\n",
            "./go 96 5 11201\n",
            "./go 96 5 11401\n",
            "./go 96 5 11601\n",
            "./go 96 5 11801\n",
            "./go 96 6 1\n",
            "./go 96 6 201\n",
            "./go 96 6 401\n",
            "./go 96 6 601\n",
            "./go 96 6 801\n",
            "./go 96 6 1001\n",
            "./go 96 6 1201\n",
            "./go 96 6 1401\n",
            "./go 96 6 1601\n",
            "./go 96 6 1801\n",
            "./go 96 6 2001\n",
            "./go 96 6 2201\n",
            "./go 96 6 2401\n",
            "./go 96 6 2601\n",
            "./go 96 6 2801\n",
            "./go 96 6 3001\n",
            "./go 96 6 3201\n",
            "./go 96 6 3401\n",
            "./go 96 6 3601\n",
            "./go 96 6 3801\n",
            "./go 96 6 4001\n",
            "./go 96 6 4201\n",
            "./go 96 6 4401\n",
            "./go 96 6 4601\n",
            "./go 96 6 4801\n",
            "./go 96 6 5001\n",
            "./go 96 6 5201\n",
            "./go 96 6 5401\n",
            "./go 96 6 5601\n",
            "./go 96 6 5801\n",
            "./go 96 6 6001\n",
            "./go 96 6 6201\n",
            "./go 96 6 6401\n",
            "./go 96 6 6601\n",
            "./go 96 6 6801\n",
            "./go 96 6 7001\n",
            "./go 96 6 7201\n",
            "./go 96 6 7401\n",
            "./go 96 6 7601\n",
            "./go 96 6 7801\n",
            "./go 96 6 8001\n",
            "./go 96 6 8201\n",
            "./go 96 6 8401\n",
            "./go 96 6 8601\n",
            "./go 96 6 8801\n",
            "./go 96 6 9001\n",
            "./go 96 6 9201\n",
            "./go 96 6 9401\n",
            "./go 96 6 9601\n",
            "./go 96 6 9801\n",
            "./go 96 6 10001\n",
            "./go 96 6 10201\n",
            "./go 96 6 10401\n",
            "./go 96 6 10601\n",
            "./go 96 6 10801\n",
            "./go 96 6 11001\n",
            "./go 96 6 11201\n",
            "./go 96 6 11401\n",
            "./go 96 6 11601\n",
            "./go 96 6 11801\n",
            "./go 96 7 1\n",
            "./go 96 7 201\n",
            "./go 96 7 401\n",
            "./go 96 7 601\n",
            "./go 96 7 801\n",
            "./go 96 7 1001\n",
            "./go 96 7 1201\n",
            "./go 96 7 1401\n",
            "./go 96 7 1601\n",
            "./go 96 7 1801\n",
            "./go 96 7 2001\n",
            "./go 96 7 2201\n",
            "./go 96 7 2401\n",
            "./go 96 7 2601\n",
            "./go 96 7 2801\n",
            "./go 96 7 3001\n",
            "./go 96 7 3201\n",
            "./go 96 7 3401\n",
            "./go 96 7 3601\n",
            "./go 96 7 3801\n",
            "./go 96 7 4001\n",
            "./go 96 7 4201\n",
            "./go 96 7 4401\n",
            "./go 96 7 4601\n",
            "./go 96 7 4801\n",
            "./go 96 7 5001\n",
            "./go 96 7 5201\n",
            "./go 96 7 5401\n",
            "./go 96 7 5601\n",
            "./go 96 7 5801\n",
            "./go 96 7 6001\n",
            "./go 96 7 6201\n",
            "./go 96 7 6401\n",
            "./go 96 7 6601\n",
            "./go 96 7 6801\n",
            "./go 96 7 7001\n",
            "./go 96 7 7201\n",
            "./go 96 7 7401\n",
            "./go 96 7 7601\n",
            "./go 96 7 7801\n",
            "./go 96 7 8001\n",
            "./go 96 7 8201\n",
            "./go 96 7 8401\n",
            "./go 96 7 8601\n",
            "./go 96 7 8801\n",
            "./go 96 7 9001\n",
            "./go 96 7 9201\n",
            "./go 96 7 9401\n",
            "./go 96 7 9601\n",
            "./go 96 7 9801\n",
            "./go 96 7 10001\n",
            "./go 96 7 10201\n",
            "./go 96 7 10401\n",
            "./go 96 7 10601\n",
            "./go 96 7 10801\n",
            "./go 96 7 11001\n",
            "./go 96 7 11201\n",
            "./go 96 7 11401\n",
            "./go 96 7 11601\n",
            "./go 96 7 11801\n",
            "./go 96 8 1\n",
            "./go 96 8 201\n",
            "./go 96 8 401\n",
            "./go 96 8 601\n",
            "./go 96 8 801\n",
            "./go 96 8 1001\n",
            "./go 96 8 1201\n",
            "./go 96 8 1401\n",
            "./go 96 8 1601\n",
            "./go 96 8 1801\n",
            "./go 96 8 2001\n",
            "./go 96 8 2201\n",
            "./go 96 8 2401\n",
            "./go 96 8 2601\n",
            "./go 96 8 2801\n",
            "./go 96 8 3001\n",
            "./go 96 8 3201\n",
            "./go 96 8 3401\n",
            "./go 96 8 3601\n",
            "./go 96 8 3801\n",
            "./go 96 8 4001\n",
            "./go 96 8 4201\n",
            "./go 96 8 4401\n",
            "./go 96 8 4601\n",
            "./go 96 8 4801\n",
            "./go 96 8 5001\n",
            "./go 96 8 5201\n",
            "./go 96 8 5401\n",
            "./go 96 8 5601\n",
            "./go 96 8 5801\n",
            "./go 96 8 6001\n",
            "./go 96 8 6201\n",
            "./go 96 8 6401\n",
            "./go 96 8 6601\n",
            "./go 96 8 6801\n",
            "./go 96 8 7001\n",
            "./go 96 8 7201\n",
            "./go 96 8 7401\n",
            "./go 96 8 7601\n",
            "./go 96 8 7801\n",
            "./go 96 8 8001\n",
            "./go 96 8 8201\n",
            "./go 96 8 8401\n",
            "./go 96 8 8601\n",
            "./go 96 8 8801\n",
            "./go 96 8 9001\n",
            "./go 96 8 9201\n",
            "./go 96 8 9401\n",
            "./go 96 8 9601\n",
            "./go 96 8 9801\n",
            "./go 96 8 10001\n",
            "./go 96 8 10201\n",
            "./go 96 8 10401\n",
            "./go 96 8 10601\n",
            "./go 96 8 10801\n",
            "./go 96 8 11001\n",
            "./go 96 8 11201\n",
            "./go 96 8 11401\n",
            "./go 96 8 11601\n",
            "./go 96 8 11801\n",
            "./go 96 9 1\n",
            "./go 96 9 201\n",
            "./go 96 9 401\n",
            "./go 96 9 601\n",
            "./go 96 9 801\n",
            "./go 96 9 1001\n",
            "./go 96 9 1201\n",
            "./go 96 9 1401\n",
            "./go 96 9 1601\n",
            "./go 96 9 1801\n",
            "./go 96 9 2001\n",
            "./go 96 9 2201\n",
            "./go 96 9 2401\n",
            "./go 96 9 2601\n",
            "./go 96 9 2801\n",
            "./go 96 9 3001\n",
            "./go 96 9 3201\n",
            "./go 96 9 3401\n",
            "./go 96 9 3601\n",
            "./go 96 9 3801\n",
            "./go 96 9 4001\n",
            "./go 96 9 4201\n",
            "./go 96 9 4401\n",
            "./go 96 9 4601\n",
            "./go 96 9 4801\n",
            "./go 96 9 5001\n",
            "./go 96 9 5201\n",
            "./go 96 9 5401\n",
            "./go 96 9 5601\n",
            "./go 96 9 5801\n",
            "./go 96 9 6001\n",
            "./go 96 9 6201\n",
            "./go 96 9 6401\n",
            "./go 96 9 6601\n",
            "./go 96 9 6801\n",
            "./go 96 9 7001\n",
            "./go 96 9 7201\n",
            "./go 96 9 7401\n",
            "./go 96 9 7601\n",
            "./go 96 9 7801\n",
            "./go 96 9 8001\n",
            "./go 96 9 8201\n",
            "./go 96 9 8401\n",
            "./go 96 9 8601\n",
            "./go 96 9 8801\n",
            "./go 96 9 9001\n",
            "./go 96 9 9201\n",
            "./go 96 9 9401\n",
            "./go 96 9 9601\n",
            "./go 96 9 9801\n",
            "./go 96 9 10001\n",
            "./go 96 9 10201\n",
            "./go 96 9 10401\n",
            "./go 96 9 10601\n",
            "./go 96 9 10801\n",
            "./go 96 9 11001\n",
            "./go 96 9 11201\n",
            "./go 96 9 11401\n",
            "./go 96 9 11601\n",
            "./go 96 9 11801\n"
          ],
          "name": "stdout"
        },
        {
          "output_type": "display_data",
          "data": {
            "image/png": "[encoded data removed]",
            "text/plain": [
              "<Figure size 432x288 with 1 Axes>"
            ]
          },
          "metadata": {
            "tags": []
          }
        }
      ]
    },
    {
      "cell_type": "code",
      "metadata": {
        "id": "Lj6BUwZfYgOu",
        "colab_type": "code",
        "outputId": "bf435833-1b43-47f3-849f-6cd30e6cad45",
        "colab": {
          "base_uri": "https://localhost:8080/",
          "height": 802
        }
      },
      "source": [
        "from matplotlib import pyplot as plt\n",
        "arquivo = open('entrada.txt', 'r')\n",
        "img = []\n",
        "for linha in arquivo:\n",
        "    img.append(list(map(int,linha.split())))\n",
        "#print(img)\n",
        "arquivo.close()\n",
        "plt.imshow(img,cmap='plasma')\n",
        "plt.show()\n",
        "\n",
        "#for i in range(1,6000,250):\n",
        "compile(8000)\n",
        "img = show()\n",
        "compile2(96,3,8000)\n",
        "img = show()"
      ],
      "execution_count": 0,
      "outputs": [
        {
          "output_type": "display_data",
          "data": {
            "image/png": "[encoded data removed]",
            "text/plain": [
              "<Figure size 432x288 with 1 Axes>"
            ]
          },
          "metadata": {
            "tags": []
          }
        },
        {
          "output_type": "stream",
          "text": [
            "./go 8000\n"
          ],
          "name": "stdout"
        },
        {
          "output_type": "display_data",
          "data": {
            "image/png": "[encoded data removed]",
            "text/plain": [
              "<Figure size 432x288 with 1 Axes>"
            ]
          },
          "metadata": {
            "tags": []
          }
        },
        {
          "output_type": "stream",
          "text": [
            "./go 96 3 8000\n"
          ],
          "name": "stdout"
        },
        {
          "output_type": "display_data",
          "data": {
            "image/png": "[encoded data removed]",
            "text/plain": [
              "<Figure size 432x288 with 1 Axes>"
            ]
          },
          "metadata": {
            "tags": []
          }
        }
      ]
    },
    {
      "cell_type": "code",
      "metadata": {
        "id": "cjMQqkUaWtKW",
        "colab_type": "code",
        "outputId": "ef84f606-321d-4cb4-cddc-a8158a5b3857",
        "colab": {
          "base_uri": "https://localhost:8080/",
          "height": 1000
        }
      },
      "source": [
        "for i in img:\n",
        "  print(i)"
      ],
      "execution_count": 0,
      "outputs": [
        {
          "output_type": "stream",
          "text": [
            "[35.0, 69.0, 103.0, 137.0, 171.0, 205.0, 239.0, 273.0, 307.0, 341.0, 375.0, 409.0, 443.0, 477.0, 511.0, 545.0, 579.0, 613.0, 647.0, 681.0, 715.0, 749.0, 783.0, 817.0, 851.0, 885.0, 919.0, 953.0, 987.0, 1021.0, 1055.0, 1089.0, 35.0, 69.0, 103.0, 137.0, 171.0, 205.0, 239.0, 273.0, 307.0, 341.0, 375.0, 409.0, 443.0, 477.0, 511.0, 545.0, 579.0, 613.0, 647.0, 681.0, 715.0, 749.0, 783.0, 817.0, 851.0, 885.0, 919.0, 953.0, 987.0, 1021.0, 1055.0, 1089.0, 35.0, 69.0, 103.0, 137.0, 171.0, 205.0, 239.0, 273.0, 307.0, 341.0, 375.0, 409.0, 443.0, 477.0, 511.0, 545.0, 579.0, 613.0, 647.0, 681.0, 715.0, 749.0, 783.0, 817.0, 851.0, 885.0, 919.0, 953.0, 987.0, 1021.0, 1055.0, 1089.0]\n",
            "[36.0, 70.0, 104.0, 138.0, 172.0, 206.0, 240.0, 274.0, 308.0, 342.0, 376.0, 410.0, 444.0, 478.0, 512.0, 546.0, 580.0, 614.0, 648.0, 682.0, 716.0, 750.0, 784.0, 818.0, 852.0, 886.0, 920.0, 954.0, 988.0, 1022.0, 1056.0, 1090.0, 36.0, 70.0, 104.0, 138.0, 172.0, 206.0, 240.0, 274.0, 308.0, 342.0, 376.0, 410.0, 444.0, 478.0, 512.0, 546.0, 580.0, 614.0, 648.0, 682.0, 716.0, 750.0, 784.0, 818.0, 852.0, 886.0, 920.0, 954.0, 988.0, 1022.0, 1056.0, 1090.0, 36.0, 70.0, 104.0, 138.0, 172.0, 206.0, 240.0, 274.0, 308.0, 342.0, 376.0, 410.0, 444.0, 478.0, 512.0, 546.0, 580.0, 614.0, 648.0, 682.0, 716.0, 750.0, 784.0, 818.0, 852.0, 886.0, 920.0, 954.0, 988.0, 1022.0, 1056.0, 1090.0]\n",
            "[37.0, 71.0, 105.0, 139.0, 173.0, 207.0, 241.0, 275.0, 309.0, 343.0, 377.0, 411.0, 445.0, 479.0, 513.0, 547.0, 581.0, 615.0, 649.0, 683.0, 717.0, 751.0, 785.0, 819.0, 853.0, 887.0, 921.0, 955.0, 989.0, 1023.0, 1057.0, 1091.0, 37.0, 71.0, 105.0, 139.0, 173.0, 207.0, 241.0, 275.0, 309.0, 343.0, 377.0, 411.0, 445.0, 479.0, 513.0, 547.0, 581.0, 615.0, 649.0, 683.0, 717.0, 751.0, 785.0, 819.0, 853.0, 887.0, 921.0, 955.0, 989.0, 1023.0, 1057.0, 1091.0, 37.0, 71.0, 105.0, 139.0, 173.0, 207.0, 241.0, 275.0, 309.0, 343.0, 377.0, 411.0, 445.0, 479.0, 513.0, 547.0, 581.0, 615.0, 649.0, 683.0, 717.0, 751.0, 785.0, 819.0, 853.0, 887.0, 921.0, 955.0, 989.0, 1023.0, 1057.0, 1091.0]\n",
            "[38.0, 72.0, 106.0, 140.0, 174.0, 208.0, 242.0, 276.0, 310.0, 344.0, 378.0, 412.0, 446.0, 480.0, 514.0, 548.0, 582.0, 616.0, 650.0, 684.0, 718.0, 752.0, 786.0, 820.0, 854.0, 888.0, 922.0, 956.0, 990.0, 1024.0, 1058.0, 1092.0, 38.0, 72.0, 106.0, 140.0, 174.0, 208.0, 242.0, 276.0, 310.0, 344.0, 378.0, 412.0, 446.0, 480.0, 514.0, 548.0, 582.0, 616.0, 650.0, 684.0, 718.0, 752.0, 786.0, 820.0, 854.0, 888.0, 922.0, 956.0, 990.0, 1024.0, 1058.0, 1092.0, 38.0, 72.0, 106.0, 140.0, 174.0, 208.0, 242.0, 276.0, 310.0, 344.0, 378.0, 412.0, 446.0, 480.0, 514.0, 548.0, 582.0, 616.0, 650.0, 684.0, 718.0, 752.0, 786.0, 820.0, 854.0, 888.0, 922.0, 956.0, 990.0, 1024.0, 1058.0, 1092.0]\n",
            "[39.0, 73.0, 107.0, 141.0, 175.0, 209.0, 243.0, 277.0, 311.0, 345.0, 379.0, 413.0, 447.0, 481.0, 515.0, 549.0, 583.0, 617.0, 651.0, 685.0, 719.0, 753.0, 787.0, 821.0, 855.0, 889.0, 923.0, 957.0, 991.0, 1025.0, 1059.0, 1093.0, 39.0, 73.0, 107.0, 141.0, 175.0, 209.0, 243.0, 277.0, 311.0, 345.0, 379.0, 413.0, 447.0, 481.0, 515.0, 549.0, 583.0, 617.0, 651.0, 685.0, 719.0, 753.0, 787.0, 821.0, 855.0, 889.0, 923.0, 957.0, 991.0, 1025.0, 1059.0, 1093.0, 39.0, 73.0, 107.0, 141.0, 175.0, 209.0, 243.0, 277.0, 311.0, 345.0, 379.0, 413.0, 447.0, 481.0, 515.0, 549.0, 583.0, 617.0, 651.0, 685.0, 719.0, 753.0, 787.0, 821.0, 855.0, 889.0, 923.0, 957.0, 991.0, 1025.0, 1059.0, 1093.0]\n",
            "[40.0, 74.0, 108.0, 142.0, 176.0, 210.0, 244.0, 278.0, 312.0, 346.0, 380.0, 414.0, 448.0, 482.0, 516.0, 550.0, 584.0, 618.0, 652.0, 686.0, 720.0, 754.0, 788.0, 822.0, 856.0, 890.0, 924.0, 958.0, 992.0, 1026.0, 1060.0, 1094.0, 40.0, 74.0, 108.0, 142.0, 176.0, 210.0, 244.0, 278.0, 312.0, 346.0, 380.0, 414.0, 448.0, 482.0, 516.0, 550.0, 584.0, 618.0, 652.0, 686.0, 720.0, 754.0, 788.0, 822.0, 856.0, 890.0, 924.0, 958.0, 992.0, 1026.0, 1060.0, 1094.0, 40.0, 74.0, 108.0, 142.0, 176.0, 210.0, 244.0, 278.0, 312.0, 346.0, 380.0, 414.0, 448.0, 482.0, 516.0, 550.0, 584.0, 618.0, 652.0, 686.0, 720.0, 754.0, 788.0, 822.0, 856.0, 890.0, 924.0, 958.0, 992.0, 1026.0, 1060.0, 1094.0]\n",
            "[41.0, 75.0, 109.0, 143.0, 177.0, 211.0, 245.0, 279.0, 313.0, 347.0, 381.0, 415.0, 449.0, 483.0, 517.0, 551.0, 585.0, 619.0, 653.0, 687.0, 721.0, 755.0, 789.0, 823.0, 857.0, 891.0, 925.0, 959.0, 993.0, 1027.0, 1061.0, 1095.0, 41.0, 75.0, 109.0, 143.0, 177.0, 211.0, 245.0, 279.0, 313.0, 347.0, 381.0, 415.0, 449.0, 483.0, 517.0, 551.0, 585.0, 619.0, 653.0, 687.0, 721.0, 755.0, 789.0, 823.0, 857.0, 891.0, 925.0, 959.0, 993.0, 1027.0, 1061.0, 1095.0, 41.0, 75.0, 109.0, 143.0, 177.0, 211.0, 245.0, 279.0, 313.0, 347.0, 381.0, 415.0, 449.0, 483.0, 517.0, 551.0, 585.0, 619.0, 653.0, 687.0, 721.0, 755.0, 789.0, 823.0, 857.0, 891.0, 925.0, 959.0, 993.0, 1027.0, 1061.0, 1095.0]\n",
            "[42.0, 76.0, 110.0, 144.0, 178.0, 212.0, 246.0, 280.0, 314.0, 348.0, 382.0, 416.0, 450.0, 484.0, 518.0, 552.0, 586.0, 620.0, 654.0, 688.0, 722.0, 756.0, 790.0, 824.0, 858.0, 892.0, 926.0, 960.0, 994.0, 1028.0, 1062.0, 1096.0, 42.0, 76.0, 110.0, 144.0, 178.0, 212.0, 246.0, 280.0, 314.0, 348.0, 382.0, 416.0, 450.0, 484.0, 518.0, 552.0, 586.0, 620.0, 654.0, 688.0, 722.0, 756.0, 790.0, 824.0, 858.0, 892.0, 926.0, 960.0, 994.0, 1028.0, 1062.0, 1096.0, 42.0, 76.0, 110.0, 144.0, 178.0, 212.0, 246.0, 280.0, 314.0, 348.0, 382.0, 416.0, 450.0, 484.0, 518.0, 552.0, 586.0, 620.0, 654.0, 688.0, 722.0, 756.0, 790.0, 824.0, 858.0, 892.0, 926.0, 960.0, 994.0, 1028.0, 1062.0, 1096.0]\n",
            "[43.0, 77.0, 111.0, 145.0, 179.0, 213.0, 247.0, 281.0, 315.0, 349.0, 383.0, 417.0, 451.0, 485.0, 519.0, 553.0, 587.0, 621.0, 655.0, 689.0, 723.0, 757.0, 791.0, 825.0, 859.0, 893.0, 927.0, 961.0, 995.0, 1029.0, 1063.0, 1097.0, 43.0, 77.0, 111.0, 145.0, 179.0, 213.0, 247.0, 281.0, 315.0, 349.0, 383.0, 417.0, 451.0, 485.0, 519.0, 553.0, 587.0, 621.0, 655.0, 689.0, 723.0, 757.0, 791.0, 825.0, 859.0, 893.0, 927.0, 961.0, 995.0, 1029.0, 1063.0, 1097.0, 43.0, 77.0, 111.0, 145.0, 179.0, 213.0, 247.0, 281.0, 315.0, 349.0, 383.0, 417.0, 451.0, 485.0, 519.0, 553.0, 587.0, 621.0, 655.0, 689.0, 723.0, 757.0, 791.0, 825.0, 859.0, 893.0, 927.0, 961.0, 995.0, 1029.0, 1063.0, 1097.0]\n",
            "[44.0, 78.0, 112.0, 146.0, 180.0, 214.0, 248.0, 282.0, 316.0, 350.0, 384.0, 418.0, 452.0, 486.0, 520.0, 554.0, 588.0, 622.0, 656.0, 690.0, 724.0, 758.0, 792.0, 826.0, 860.0, 894.0, 928.0, 962.0, 996.0, 1030.0, 1064.0, 1098.0, 44.0, 78.0, 112.0, 146.0, 180.0, 214.0, 248.0, 282.0, 316.0, 350.0, 384.0, 418.0, 452.0, 486.0, 520.0, 554.0, 588.0, 622.0, 656.0, 690.0, 724.0, 758.0, 792.0, 826.0, 860.0, 894.0, 928.0, 962.0, 996.0, 1030.0, 1064.0, 1098.0, 44.0, 78.0, 112.0, 146.0, 180.0, 214.0, 248.0, 282.0, 316.0, 350.0, 384.0, 418.0, 452.0, 486.0, 520.0, 554.0, 588.0, 622.0, 656.0, 690.0, 724.0, 758.0, 792.0, 826.0, 860.0, 894.0, 928.0, 962.0, 996.0, 1030.0, 1064.0, 1098.0]\n",
            "[45.0, 79.0, 113.0, 147.0, 181.0, 215.0, 249.0, 283.0, 317.0, 351.0, 385.0, 419.0, 453.0, 487.0, 521.0, 555.0, 589.0, 623.0, 657.0, 691.0, 725.0, 759.0, 793.0, 827.0, 861.0, 895.0, 929.0, 963.0, 997.0, 1031.0, 1065.0, 1099.0, 45.0, 79.0, 113.0, 147.0, 181.0, 215.0, 249.0, 283.0, 317.0, 351.0, 385.0, 419.0, 453.0, 487.0, 521.0, 555.0, 589.0, 623.0, 657.0, 691.0, 725.0, 759.0, 793.0, 827.0, 861.0, 895.0, 929.0, 963.0, 997.0, 1031.0, 1065.0, 1099.0, 45.0, 79.0, 113.0, 147.0, 181.0, 215.0, 249.0, 283.0, 317.0, 351.0, 385.0, 419.0, 453.0, 487.0, 521.0, 555.0, 589.0, 623.0, 657.0, 691.0, 725.0, 759.0, 793.0, 827.0, 861.0, 895.0, 929.0, 963.0, 997.0, 1031.0, 1065.0, 1099.0]\n",
            "[46.0, 80.0, 114.0, 148.0, 182.0, 216.0, 250.0, 284.0, 318.0, 352.0, 386.0, 420.0, 454.0, 488.0, 522.0, 556.0, 590.0, 624.0, 658.0, 692.0, 726.0, 760.0, 794.0, 828.0, 862.0, 896.0, 930.0, 964.0, 998.0, 1032.0, 1066.0, 1100.0, 46.0, 80.0, 114.0, 148.0, 182.0, 216.0, 250.0, 284.0, 318.0, 352.0, 386.0, 420.0, 454.0, 488.0, 522.0, 556.0, 590.0, 624.0, 658.0, 692.0, 726.0, 760.0, 794.0, 828.0, 862.0, 896.0, 930.0, 964.0, 998.0, 1032.0, 1066.0, 1100.0, 46.0, 80.0, 114.0, 148.0, 182.0, 216.0, 250.0, 284.0, 318.0, 352.0, 386.0, 420.0, 454.0, 488.0, 522.0, 556.0, 590.0, 624.0, 658.0, 692.0, 726.0, 760.0, 794.0, 828.0, 862.0, 896.0, 930.0, 964.0, 998.0, 1032.0, 1066.0, 1100.0]\n",
            "[47.0, 81.0, 115.0, 149.0, 183.0, 217.0, 251.0, 285.0, 319.0, 353.0, 387.0, 421.0, 455.0, 489.0, 523.0, 557.0, 591.0, 625.0, 659.0, 693.0, 727.0, 761.0, 795.0, 829.0, 863.0, 897.0, 931.0, 965.0, 999.0, 1033.0, 1067.0, 1101.0, 47.0, 81.0, 115.0, 149.0, 183.0, 217.0, 251.0, 285.0, 319.0, 353.0, 387.0, 421.0, 455.0, 489.0, 523.0, 557.0, 591.0, 625.0, 659.0, 693.0, 727.0, 761.0, 795.0, 829.0, 863.0, 897.0, 931.0, 965.0, 999.0, 1033.0, 1067.0, 1101.0, 47.0, 81.0, 115.0, 149.0, 183.0, 217.0, 251.0, 285.0, 319.0, 353.0, 387.0, 421.0, 455.0, 489.0, 523.0, 557.0, 591.0, 625.0, 659.0, 693.0, 727.0, 761.0, 795.0, 829.0, 863.0, 897.0, 931.0, 965.0, 999.0, 1033.0, 1067.0, 1101.0]\n",
            "[48.0, 82.0, 116.0, 150.0, 184.0, 218.0, 252.0, 286.0, 320.0, 354.0, 388.0, 422.0, 456.0, 490.0, 524.0, 558.0, 592.0, 626.0, 660.0, 694.0, 728.0, 762.0, 796.0, 830.0, 864.0, 898.0, 932.0, 966.0, 1000.0, 1034.0, 1068.0, 1102.0, 48.0, 82.0, 116.0, 150.0, 184.0, 218.0, 252.0, 286.0, 320.0, 354.0, 388.0, 422.0, 456.0, 490.0, 524.0, 558.0, 592.0, 626.0, 660.0, 694.0, 728.0, 762.0, 796.0, 830.0, 864.0, 898.0, 932.0, 966.0, 1000.0, 1034.0, 1068.0, 1102.0, 48.0, 82.0, 116.0, 150.0, 184.0, 218.0, 252.0, 286.0, 320.0, 354.0, 388.0, 422.0, 456.0, 490.0, 524.0, 558.0, 592.0, 626.0, 660.0, 694.0, 728.0, 762.0, 796.0, 830.0, 864.0, 898.0, 932.0, 966.0, 1000.0, 1034.0, 1068.0, 1102.0]\n",
            "[49.0, 83.0, 117.0, 151.0, 185.0, 219.0, 253.0, 287.0, 321.0, 355.0, 389.0, 423.0, 457.0, 491.0, 525.0, 559.0, 593.0, 627.0, 661.0, 695.0, 729.0, 763.0, 797.0, 831.0, 865.0, 899.0, 933.0, 967.0, 1001.0, 1035.0, 1069.0, 1103.0, 49.0, 83.0, 117.0, 151.0, 185.0, 219.0, 253.0, 287.0, 321.0, 355.0, 389.0, 423.0, 457.0, 491.0, 525.0, 559.0, 593.0, 627.0, 661.0, 695.0, 729.0, 763.0, 797.0, 831.0, 865.0, 899.0, 933.0, 967.0, 1001.0, 1035.0, 1069.0, 1103.0, 49.0, 83.0, 117.0, 151.0, 185.0, 219.0, 253.0, 287.0, 321.0, 355.0, 389.0, 423.0, 457.0, 491.0, 525.0, 559.0, 593.0, 627.0, 661.0, 695.0, 729.0, 763.0, 797.0, 831.0, 865.0, 899.0, 933.0, 967.0, 1001.0, 1035.0, 1069.0, 1103.0]\n",
            "[50.0, 84.0, 118.0, 152.0, 186.0, 220.0, 254.0, 288.0, 322.0, 356.0, 390.0, 424.0, 458.0, 492.0, 526.0, 560.0, 594.0, 628.0, 662.0, 696.0, 730.0, 764.0, 798.0, 832.0, 866.0, 900.0, 934.0, 968.0, 1002.0, 1036.0, 1070.0, 1104.0, 50.0, 84.0, 118.0, 152.0, 186.0, 220.0, 254.0, 288.0, 322.0, 356.0, 390.0, 424.0, 458.0, 492.0, 526.0, 560.0, 594.0, 628.0, 662.0, 696.0, 730.0, 764.0, 798.0, 832.0, 866.0, 900.0, 934.0, 968.0, 1002.0, 1036.0, 1070.0, 1104.0, 50.0, 84.0, 118.0, 152.0, 186.0, 220.0, 254.0, 288.0, 322.0, 356.0, 390.0, 424.0, 458.0, 492.0, 526.0, 560.0, 594.0, 628.0, 662.0, 696.0, 730.0, 764.0, 798.0, 832.0, 866.0, 900.0, 934.0, 968.0, 1002.0, 1036.0, 1070.0, 1104.0]\n",
            "[51.0, 85.0, 119.0, 153.0, 187.0, 221.0, 255.0, 289.0, 323.0, 357.0, 391.0, 425.0, 459.0, 493.0, 527.0, 561.0, 595.0, 629.0, 663.0, 697.0, 731.0, 765.0, 799.0, 833.0, 867.0, 901.0, 935.0, 969.0, 1003.0, 1037.0, 1071.0, 1105.0, 51.0, 85.0, 119.0, 153.0, 187.0, 221.0, 255.0, 289.0, 323.0, 357.0, 391.0, 425.0, 459.0, 493.0, 527.0, 561.0, 595.0, 629.0, 663.0, 697.0, 731.0, 765.0, 799.0, 833.0, 867.0, 901.0, 935.0, 969.0, 1003.0, 1037.0, 1071.0, 1105.0, 51.0, 85.0, 119.0, 153.0, 187.0, 221.0, 255.0, 289.0, 323.0, 357.0, 391.0, 425.0, 459.0, 493.0, 527.0, 561.0, 595.0, 629.0, 663.0, 697.0, 731.0, 765.0, 799.0, 833.0, 867.0, 901.0, 935.0, 969.0, 1003.0, 1037.0, 1071.0, 1105.0]\n",
            "[52.0, 86.0, 120.0, 154.0, 188.0, 222.0, 256.0, 290.0, 324.0, 358.0, 392.0, 426.0, 460.0, 494.0, 528.0, 562.0, 596.0, 630.0, 664.0, 698.0, 732.0, 766.0, 800.0, 834.0, 868.0, 902.0, 936.0, 970.0, 1004.0, 1038.0, 1072.0, 1106.0, 52.0, 86.0, 120.0, 154.0, 188.0, 222.0, 256.0, 290.0, 324.0, 358.0, 392.0, 426.0, 460.0, 494.0, 528.0, 562.0, 596.0, 630.0, 664.0, 698.0, 732.0, 766.0, 800.0, 834.0, 868.0, 902.0, 936.0, 970.0, 1004.0, 1038.0, 1072.0, 1106.0, 52.0, 86.0, 120.0, 154.0, 188.0, 222.0, 256.0, 290.0, 324.0, 358.0, 392.0, 426.0, 460.0, 494.0, 528.0, 562.0, 596.0, 630.0, 664.0, 698.0, 732.0, 766.0, 800.0, 834.0, 868.0, 902.0, 936.0, 970.0, 1004.0, 1038.0, 1072.0, 1106.0]\n",
            "[53.0, 87.0, 121.0, 155.0, 189.0, 223.0, 257.0, 291.0, 325.0, 359.0, 393.0, 427.0, 461.0, 495.0, 529.0, 563.0, 597.0, 631.0, 665.0, 699.0, 733.0, 767.0, 801.0, 835.0, 869.0, 903.0, 937.0, 971.0, 1005.0, 1039.0, 1073.0, 1107.0, 53.0, 87.0, 121.0, 155.0, 189.0, 223.0, 257.0, 291.0, 325.0, 359.0, 393.0, 427.0, 461.0, 495.0, 529.0, 563.0, 597.0, 631.0, 665.0, 699.0, 733.0, 767.0, 801.0, 835.0, 869.0, 903.0, 937.0, 971.0, 1005.0, 1039.0, 1073.0, 1107.0, 53.0, 87.0, 121.0, 155.0, 189.0, 223.0, 257.0, 291.0, 325.0, 359.0, 393.0, 427.0, 461.0, 495.0, 529.0, 563.0, 597.0, 631.0, 665.0, 699.0, 733.0, 767.0, 801.0, 835.0, 869.0, 903.0, 937.0, 971.0, 1005.0, 1039.0, 1073.0, 1107.0]\n",
            "[54.0, 88.0, 122.0, 156.0, 190.0, 224.0, 258.0, 292.0, 326.0, 360.0, 394.0, 428.0, 462.0, 496.0, 530.0, 564.0, 598.0, 632.0, 666.0, 700.0, 734.0, 768.0, 802.0, 836.0, 870.0, 904.0, 938.0, 972.0, 1006.0, 1040.0, 1074.0, 1108.0, 54.0, 88.0, 122.0, 156.0, 190.0, 224.0, 258.0, 292.0, 326.0, 360.0, 394.0, 428.0, 462.0, 496.0, 530.0, 564.0, 598.0, 632.0, 666.0, 700.0, 734.0, 768.0, 802.0, 836.0, 870.0, 904.0, 938.0, 972.0, 1006.0, 1040.0, 1074.0, 1108.0, 54.0, 88.0, 122.0, 156.0, 190.0, 224.0, 258.0, 292.0, 326.0, 360.0, 394.0, 428.0, 462.0, 496.0, 530.0, 564.0, 598.0, 632.0, 666.0, 700.0, 734.0, 768.0, 802.0, 836.0, 870.0, 904.0, 938.0, 972.0, 1006.0, 1040.0, 1074.0, 1108.0]\n",
            "[55.0, 89.0, 123.0, 157.0, 191.0, 225.0, 259.0, 293.0, 327.0, 361.0, 395.0, 429.0, 463.0, 497.0, 531.0, 565.0, 599.0, 633.0, 667.0, 701.0, 735.0, 769.0, 803.0, 837.0, 871.0, 905.0, 939.0, 973.0, 1007.0, 1041.0, 1075.0, 1109.0, 55.0, 89.0, 123.0, 157.0, 191.0, 225.0, 259.0, 293.0, 327.0, 361.0, 395.0, 429.0, 463.0, 497.0, 531.0, 565.0, 599.0, 633.0, 667.0, 701.0, 735.0, 769.0, 803.0, 837.0, 871.0, 905.0, 939.0, 973.0, 1007.0, 1041.0, 1075.0, 1109.0, 55.0, 89.0, 123.0, 157.0, 191.0, 225.0, 259.0, 293.0, 327.0, 361.0, 395.0, 429.0, 463.0, 497.0, 531.0, 565.0, 599.0, 633.0, 667.0, 701.0, 735.0, 769.0, 803.0, 837.0, 871.0, 905.0, 939.0, 973.0, 1007.0, 1041.0, 1075.0, 1109.0]\n",
            "[56.0, 90.0, 124.0, 158.0, 192.0, 226.0, 260.0, 294.0, 328.0, 362.0, 396.0, 430.0, 464.0, 498.0, 532.0, 566.0, 600.0, 634.0, 668.0, 702.0, 736.0, 770.0, 804.0, 838.0, 872.0, 906.0, 940.0, 974.0, 1008.0, 1042.0, 1076.0, 1110.0, 56.0, 90.0, 124.0, 158.0, 192.0, 226.0, 260.0, 294.0, 328.0, 362.0, 396.0, 430.0, 464.0, 498.0, 532.0, 566.0, 600.0, 634.0, 668.0, 702.0, 736.0, 770.0, 804.0, 838.0, 872.0, 906.0, 940.0, 974.0, 1008.0, 1042.0, 1076.0, 1110.0, 56.0, 90.0, 124.0, 158.0, 192.0, 226.0, 260.0, 294.0, 328.0, 362.0, 396.0, 430.0, 464.0, 498.0, 532.0, 566.0, 600.0, 634.0, 668.0, 702.0, 736.0, 770.0, 804.0, 838.0, 872.0, 906.0, 940.0, 974.0, 1008.0, 1042.0, 1076.0, 1110.0]\n",
            "[57.0, 91.0, 125.0, 159.0, 193.0, 227.0, 261.0, 295.0, 329.0, 363.0, 397.0, 431.0, 465.0, 499.0, 533.0, 567.0, 601.0, 635.0, 669.0, 703.0, 737.0, 771.0, 805.0, 839.0, 873.0, 907.0, 941.0, 975.0, 1009.0, 1043.0, 1077.0, 1111.0, 57.0, 91.0, 125.0, 159.0, 193.0, 227.0, 261.0, 295.0, 329.0, 363.0, 397.0, 431.0, 465.0, 499.0, 533.0, 567.0, 601.0, 635.0, 669.0, 703.0, 737.0, 771.0, 805.0, 839.0, 873.0, 907.0, 941.0, 975.0, 1009.0, 1043.0, 1077.0, 1111.0, 57.0, 91.0, 125.0, 159.0, 193.0, 227.0, 261.0, 295.0, 329.0, 363.0, 397.0, 431.0, 465.0, 499.0, 533.0, 567.0, 601.0, 635.0, 669.0, 703.0, 737.0, 771.0, 805.0, 839.0, 873.0, 907.0, 941.0, 975.0, 1009.0, 1043.0, 1077.0, 1111.0]\n",
            "[58.0, 92.0, 126.0, 160.0, 194.0, 228.0, 262.0, 296.0, 330.0, 364.0, 398.0, 432.0, 466.0, 500.0, 534.0, 568.0, 602.0, 636.0, 670.0, 704.0, 738.0, 772.0, 806.0, 840.0, 874.0, 908.0, 942.0, 976.0, 1010.0, 1044.0, 1078.0, 1112.0, 58.0, 92.0, 126.0, 160.0, 194.0, 228.0, 262.0, 296.0, 330.0, 364.0, 398.0, 432.0, 466.0, 500.0, 534.0, 568.0, 602.0, 636.0, 670.0, 704.0, 738.0, 772.0, 806.0, 840.0, 874.0, 908.0, 942.0, 976.0, 1010.0, 1044.0, 1078.0, 1112.0, 58.0, 92.0, 126.0, 160.0, 194.0, 228.0, 262.0, 296.0, 330.0, 364.0, 398.0, 432.0, 466.0, 500.0, 534.0, 568.0, 602.0, 636.0, 670.0, 704.0, 738.0, 772.0, 806.0, 840.0, 874.0, 908.0, 942.0, 976.0, 1010.0, 1044.0, 1078.0, 1112.0]\n",
            "[59.0, 93.0, 127.0, 161.0, 195.0, 229.0, 263.0, 297.0, 331.0, 365.0, 399.0, 433.0, 467.0, 501.0, 535.0, 569.0, 603.0, 637.0, 671.0, 705.0, 739.0, 773.0, 807.0, 841.0, 875.0, 909.0, 943.0, 977.0, 1011.0, 1045.0, 1079.0, 1113.0, 59.0, 93.0, 127.0, 161.0, 195.0, 229.0, 263.0, 297.0, 331.0, 365.0, 399.0, 433.0, 467.0, 501.0, 535.0, 569.0, 603.0, 637.0, 671.0, 705.0, 739.0, 773.0, 807.0, 841.0, 875.0, 909.0, 943.0, 977.0, 1011.0, 1045.0, 1079.0, 1113.0, 59.0, 93.0, 127.0, 161.0, 195.0, 229.0, 263.0, 297.0, 331.0, 365.0, 399.0, 433.0, 467.0, 501.0, 535.0, 569.0, 603.0, 637.0, 671.0, 705.0, 739.0, 773.0, 807.0, 841.0, 875.0, 909.0, 943.0, 977.0, 1011.0, 1045.0, 1079.0, 1113.0]\n",
            "[60.0, 94.0, 128.0, 162.0, 196.0, 230.0, 264.0, 298.0, 332.0, 366.0, 400.0, 434.0, 468.0, 502.0, 536.0, 570.0, 604.0, 638.0, 672.0, 706.0, 740.0, 774.0, 808.0, 842.0, 876.0, 910.0, 944.0, 978.0, 1012.0, 1046.0, 1080.0, 1114.0, 60.0, 94.0, 128.0, 162.0, 196.0, 230.0, 264.0, 298.0, 332.0, 366.0, 400.0, 434.0, 468.0, 502.0, 536.0, 570.0, 604.0, 638.0, 672.0, 706.0, 740.0, 774.0, 808.0, 842.0, 876.0, 910.0, 944.0, 978.0, 1012.0, 1046.0, 1080.0, 1114.0, 60.0, 94.0, 128.0, 162.0, 196.0, 230.0, 264.0, 298.0, 332.0, 366.0, 400.0, 434.0, 468.0, 502.0, 536.0, 570.0, 604.0, 638.0, 672.0, 706.0, 740.0, 774.0, 808.0, 842.0, 876.0, 910.0, 944.0, 978.0, 1012.0, 1046.0, 1080.0, 1114.0]\n",
            "[61.0, 95.0, 129.0, 163.0, 197.0, 231.0, 265.0, 299.0, 333.0, 367.0, 401.0, 435.0, 469.0, 503.0, 537.0, 571.0, 605.0, 639.0, 673.0, 707.0, 741.0, 775.0, 809.0, 843.0, 877.0, 911.0, 945.0, 979.0, 1013.0, 1047.0, 1081.0, 1115.0, 61.0, 95.0, 129.0, 163.0, 197.0, 231.0, 265.0, 299.0, 333.0, 367.0, 401.0, 435.0, 469.0, 503.0, 537.0, 571.0, 605.0, 639.0, 673.0, 707.0, 741.0, 775.0, 809.0, 843.0, 877.0, 911.0, 945.0, 979.0, 1013.0, 1047.0, 1081.0, 1115.0, 61.0, 95.0, 129.0, 163.0, 197.0, 231.0, 265.0, 299.0, 333.0, 367.0, 401.0, 435.0, 469.0, 503.0, 537.0, 571.0, 605.0, 639.0, 673.0, 707.0, 741.0, 775.0, 809.0, 843.0, 877.0, 911.0, 945.0, 979.0, 1013.0, 1047.0, 1081.0, 1115.0]\n",
            "[62.0, 96.0, 130.0, 164.0, 198.0, 232.0, 266.0, 300.0, 334.0, 368.0, 402.0, 436.0, 470.0, 504.0, 538.0, 572.0, 606.0, 640.0, 674.0, 708.0, 742.0, 776.0, 810.0, 844.0, 878.0, 912.0, 946.0, 980.0, 1014.0, 1048.0, 1082.0, 1116.0, 62.0, 96.0, 130.0, 164.0, 198.0, 232.0, 266.0, 300.0, 334.0, 368.0, 402.0, 436.0, 470.0, 504.0, 538.0, 572.0, 606.0, 640.0, 674.0, 708.0, 742.0, 776.0, 810.0, 844.0, 878.0, 912.0, 946.0, 980.0, 1014.0, 1048.0, 1082.0, 1116.0, 62.0, 96.0, 130.0, 164.0, 198.0, 232.0, 266.0, 300.0, 334.0, 368.0, 402.0, 436.0, 470.0, 504.0, 538.0, 572.0, 606.0, 640.0, 674.0, 708.0, 742.0, 776.0, 810.0, 844.0, 878.0, 912.0, 946.0, 980.0, 1014.0, 1048.0, 1082.0, 1116.0]\n",
            "[63.0, 97.0, 131.0, 165.0, 199.0, 233.0, 267.0, 301.0, 335.0, 369.0, 403.0, 437.0, 471.0, 505.0, 539.0, 573.0, 607.0, 641.0, 675.0, 709.0, 743.0, 777.0, 811.0, 845.0, 879.0, 913.0, 947.0, 981.0, 1015.0, 1049.0, 1083.0, 1117.0, 63.0, 97.0, 131.0, 165.0, 199.0, 233.0, 267.0, 301.0, 335.0, 369.0, 403.0, 437.0, 471.0, 505.0, 539.0, 573.0, 607.0, 641.0, 675.0, 709.0, 743.0, 777.0, 811.0, 845.0, 879.0, 913.0, 947.0, 981.0, 1015.0, 1049.0, 1083.0, 1117.0, 63.0, 97.0, 131.0, 165.0, 199.0, 233.0, 267.0, 301.0, 335.0, 369.0, 403.0, 437.0, 471.0, 505.0, 539.0, 573.0, 607.0, 641.0, 675.0, 709.0, 743.0, 777.0, 811.0, 845.0, 879.0, 913.0, 947.0, 981.0, 1015.0, 1049.0, 1083.0, 1117.0]\n",
            "[64.0, 98.0, 132.0, 166.0, 200.0, 234.0, 268.0, 302.0, 336.0, 370.0, 404.0, 438.0, 472.0, 506.0, 540.0, 574.0, 608.0, 642.0, 676.0, 710.0, 744.0, 778.0, 812.0, 846.0, 880.0, 914.0, 948.0, 982.0, 1016.0, 1050.0, 1084.0, 1118.0, 64.0, 98.0, 132.0, 166.0, 200.0, 234.0, 268.0, 302.0, 336.0, 370.0, 404.0, 438.0, 472.0, 506.0, 540.0, 574.0, 608.0, 642.0, 676.0, 710.0, 744.0, 778.0, 812.0, 846.0, 880.0, 914.0, 948.0, 982.0, 1016.0, 1050.0, 1084.0, 1118.0, 64.0, 98.0, 132.0, 166.0, 200.0, 234.0, 268.0, 302.0, 336.0, 370.0, 404.0, 438.0, 472.0, 506.0, 540.0, 574.0, 608.0, 642.0, 676.0, 710.0, 744.0, 778.0, 812.0, 846.0, 880.0, 914.0, 948.0, 982.0, 1016.0, 1050.0, 1084.0, 1118.0]\n",
            "[65.0, 99.0, 133.0, 167.0, 201.0, 235.0, 269.0, 303.0, 337.0, 371.0, 405.0, 439.0, 473.0, 507.0, 541.0, 575.0, 609.0, 643.0, 677.0, 711.0, 745.0, 779.0, 813.0, 847.0, 881.0, 915.0, 949.0, 983.0, 1017.0, 1051.0, 1085.0, 1119.0, 65.0, 99.0, 133.0, 167.0, 201.0, 235.0, 269.0, 303.0, 337.0, 371.0, 405.0, 439.0, 473.0, 507.0, 541.0, 575.0, 609.0, 643.0, 677.0, 711.0, 745.0, 779.0, 813.0, 847.0, 881.0, 915.0, 949.0, 983.0, 1017.0, 1051.0, 1085.0, 1119.0, 65.0, 99.0, 133.0, 167.0, 201.0, 235.0, 269.0, 303.0, 337.0, 371.0, 405.0, 439.0, 473.0, 507.0, 541.0, 575.0, 609.0, 643.0, 677.0, 711.0, 745.0, 779.0, 813.0, 847.0, 881.0, 915.0, 949.0, 983.0, 1017.0, 1051.0, 1085.0, 1119.0]\n",
            "[66.0, 100.0, 134.0, 168.0, 202.0, 236.0, 270.0, 304.0, 338.0, 372.0, 406.0, 440.0, 474.0, 508.0, 542.0, 576.0, 610.0, 644.0, 678.0, 712.0, 746.0, 780.0, 814.0, 848.0, 882.0, 916.0, 950.0, 984.0, 1018.0, 1052.0, 1086.0, 1120.0, 66.0, 100.0, 134.0, 168.0, 202.0, 236.0, 270.0, 304.0, 338.0, 372.0, 406.0, 440.0, 474.0, 508.0, 542.0, 576.0, 610.0, 644.0, 678.0, 712.0, 746.0, 780.0, 814.0, 848.0, 882.0, 916.0, 950.0, 984.0, 1018.0, 1052.0, 1086.0, 1120.0, 66.0, 100.0, 134.0, 168.0, 202.0, 236.0, 270.0, 304.0, 338.0, 372.0, 406.0, 440.0, 474.0, 508.0, 542.0, 576.0, 610.0, 644.0, 678.0, 712.0, 746.0, 780.0, 814.0, 848.0, 882.0, 916.0, 950.0, 984.0, 1018.0, 1052.0, 1086.0, 1120.0]\n",
            "[35.0, 69.0, 103.0, 137.0, 171.0, 205.0, 239.0, 273.0, 307.0, 341.0, 375.0, 409.0, 443.0, 477.0, 511.0, 545.0, 579.0, 613.0, 647.0, 681.0, 715.0, 749.0, 783.0, 817.0, 851.0, 885.0, 919.0, 953.0, 987.0, 1021.0, 1055.0, 1089.0, 35.0, 69.0, 103.0, 137.0, 171.0, 205.0, 239.0, 273.0, 307.0, 341.0, 375.0, 409.0, 443.0, 477.0, 511.0, 545.0, 579.0, 613.0, 647.0, 681.0, 715.0, 749.0, 783.0, 817.0, 851.0, 885.0, 919.0, 953.0, 987.0, 1021.0, 1055.0, 1089.0, 35.0, 69.0, 103.0, 137.0, 171.0, 205.0, 239.0, 273.0, 307.0, 341.0, 375.0, 409.0, 443.0, 477.0, 511.0, 545.0, 579.0, 613.0, 647.0, 681.0, 715.0, 749.0, 783.0, 817.0, 851.0, 885.0, 919.0, 953.0, 987.0, 1021.0, 1055.0, 1089.0]\n",
            "[36.0, 70.0, 104.0, 138.0, 172.0, 206.0, 240.0, 274.0, 308.0, 342.0, 376.0, 410.0, 444.0, 478.0, 512.0, 546.0, 580.0, 614.0, 648.0, 682.0, 716.0, 750.0, 784.0, 818.0, 852.0, 886.0, 920.0, 954.0, 988.0, 1022.0, 1056.0, 1090.0, 36.0, 70.0, 104.0, 138.0, 172.0, 206.0, 240.0, 274.0, 308.0, 342.0, 376.0, 410.0, 444.0, 478.0, 512.0, 546.0, 580.0, 614.0, 648.0, 682.0, 716.0, 750.0, 784.0, 818.0, 852.0, 886.0, 920.0, 954.0, 988.0, 1022.0, 1056.0, 1090.0, 36.0, 70.0, 104.0, 138.0, 172.0, 206.0, 240.0, 274.0, 308.0, 342.0, 376.0, 410.0, 444.0, 478.0, 512.0, 546.0, 580.0, 614.0, 648.0, 682.0, 716.0, 750.0, 784.0, 818.0, 852.0, 886.0, 920.0, 954.0, 988.0, 1022.0, 1056.0, 1090.0]\n",
            "[37.0, 71.0, 105.0, 139.0, 173.0, 207.0, 241.0, 275.0, 309.0, 343.0, 377.0, 411.0, 445.0, 479.0, 513.0, 547.0, 581.0, 615.0, 649.0, 683.0, 717.0, 751.0, 785.0, 819.0, 853.0, 887.0, 921.0, 955.0, 989.0, 1023.0, 1057.0, 1091.0, 37.0, 71.0, 105.0, 139.0, 173.0, 207.0, 241.0, 275.0, 309.0, 343.0, 377.0, 411.0, 445.0, 479.0, 513.0, 547.0, 581.0, 615.0, 649.0, 683.0, 717.0, 751.0, 785.0, 819.0, 853.0, 887.0, 921.0, 955.0, 989.0, 1023.0, 1057.0, 1091.0, 37.0, 71.0, 105.0, 139.0, 173.0, 207.0, 241.0, 275.0, 309.0, 343.0, 377.0, 411.0, 445.0, 479.0, 513.0, 547.0, 581.0, 615.0, 649.0, 683.0, 717.0, 751.0, 785.0, 819.0, 853.0, 887.0, 921.0, 955.0, 989.0, 1023.0, 1057.0, 1091.0]\n",
            "[38.0, 72.0, 106.0, 140.0, 174.0, 208.0, 242.0, 276.0, 310.0, 344.0, 378.0, 412.0, 446.0, 480.0, 514.0, 548.0, 582.0, 616.0, 650.0, 684.0, 718.0, 752.0, 786.0, 820.0, 854.0, 888.0, 922.0, 956.0, 990.0, 1024.0, 1058.0, 1092.0, 38.0, 72.0, 106.0, 140.0, 174.0, 208.0, 242.0, 276.0, 310.0, 344.0, 378.0, 412.0, 446.0, 480.0, 514.0, 548.0, 582.0, 616.0, 650.0, 684.0, 718.0, 752.0, 786.0, 820.0, 854.0, 888.0, 922.0, 956.0, 990.0, 1024.0, 1058.0, 1092.0, 38.0, 72.0, 106.0, 140.0, 174.0, 208.0, 242.0, 276.0, 310.0, 344.0, 378.0, 412.0, 446.0, 480.0, 514.0, 548.0, 582.0, 616.0, 650.0, 684.0, 718.0, 752.0, 786.0, 820.0, 854.0, 888.0, 922.0, 956.0, 990.0, 1024.0, 1058.0, 1092.0]\n",
            "[39.0, 73.0, 107.0, 141.0, 175.0, 209.0, 243.0, 277.0, 311.0, 345.0, 379.0, 413.0, 447.0, 481.0, 515.0, 549.0, 583.0, 617.0, 651.0, 685.0, 719.0, 753.0, 787.0, 821.0, 855.0, 889.0, 923.0, 957.0, 991.0, 1025.0, 1059.0, 1093.0, 39.0, 73.0, 107.0, 141.0, 175.0, 209.0, 243.0, 277.0, 311.0, 345.0, 379.0, 413.0, 447.0, 481.0, 515.0, 549.0, 583.0, 617.0, 651.0, 685.0, 719.0, 753.0, 787.0, 821.0, 855.0, 889.0, 923.0, 957.0, 991.0, 1025.0, 1059.0, 1093.0, 39.0, 73.0, 107.0, 141.0, 175.0, 209.0, 243.0, 277.0, 311.0, 345.0, 379.0, 413.0, 447.0, 481.0, 515.0, 549.0, 583.0, 617.0, 651.0, 685.0, 719.0, 753.0, 787.0, 821.0, 855.0, 889.0, 923.0, 957.0, 991.0, 1025.0, 1059.0, 1093.0]\n",
            "[40.0, 74.0, 108.0, 142.0, 176.0, 210.0, 244.0, 278.0, 312.0, 346.0, 380.0, 414.0, 448.0, 482.0, 516.0, 550.0, 584.0, 618.0, 652.0, 686.0, 720.0, 754.0, 788.0, 822.0, 856.0, 890.0, 924.0, 958.0, 992.0, 1026.0, 1060.0, 1094.0, 40.0, 74.0, 108.0, 142.0, 176.0, 210.0, 244.0, 278.0, 312.0, 346.0, 380.0, 414.0, 448.0, 482.0, 516.0, 550.0, 584.0, 618.0, 652.0, 686.0, 720.0, 754.0, 788.0, 822.0, 856.0, 890.0, 924.0, 958.0, 992.0, 1026.0, 1060.0, 1094.0, 40.0, 74.0, 108.0, 142.0, 176.0, 210.0, 244.0, 278.0, 312.0, 346.0, 380.0, 414.0, 448.0, 482.0, 516.0, 550.0, 584.0, 618.0, 652.0, 686.0, 720.0, 754.0, 788.0, 822.0, 856.0, 890.0, 924.0, 958.0, 992.0, 1026.0, 1060.0, 1094.0]\n",
            "[41.0, 75.0, 109.0, 143.0, 177.0, 211.0, 245.0, 279.0, 313.0, 347.0, 381.0, 415.0, 449.0, 483.0, 517.0, 551.0, 585.0, 619.0, 653.0, 687.0, 721.0, 755.0, 789.0, 823.0, 857.0, 891.0, 925.0, 959.0, 993.0, 1027.0, 1061.0, 1095.0, 41.0, 75.0, 109.0, 143.0, 177.0, 211.0, 245.0, 279.0, 313.0, 347.0, 381.0, 415.0, 449.0, 483.0, 517.0, 551.0, 585.0, 619.0, 653.0, 687.0, 721.0, 755.0, 789.0, 823.0, 857.0, 891.0, 925.0, 959.0, 993.0, 1027.0, 1061.0, 1095.0, 41.0, 75.0, 109.0, 143.0, 177.0, 211.0, 245.0, 279.0, 313.0, 347.0, 381.0, 415.0, 449.0, 483.0, 517.0, 551.0, 585.0, 619.0, 653.0, 687.0, 721.0, 755.0, 789.0, 823.0, 857.0, 891.0, 925.0, 959.0, 993.0, 1027.0, 1061.0, 1095.0]\n",
            "[42.0, 76.0, 110.0, 144.0, 178.0, 212.0, 246.0, 280.0, 314.0, 348.0, 382.0, 416.0, 450.0, 484.0, 518.0, 552.0, 586.0, 620.0, 654.0, 688.0, 722.0, 756.0, 790.0, 824.0, 858.0, 892.0, 926.0, 960.0, 994.0, 1028.0, 1062.0, 1096.0, 42.0, 76.0, 110.0, 144.0, 178.0, 212.0, 246.0, 280.0, 314.0, 348.0, 382.0, 416.0, 450.0, 484.0, 518.0, 552.0, 586.0, 620.0, 654.0, 688.0, 722.0, 756.0, 790.0, 824.0, 858.0, 892.0, 926.0, 960.0, 994.0, 1028.0, 1062.0, 1096.0, 42.0, 76.0, 110.0, 144.0, 178.0, 212.0, 246.0, 280.0, 314.0, 348.0, 382.0, 416.0, 450.0, 484.0, 518.0, 552.0, 586.0, 620.0, 654.0, 688.0, 722.0, 756.0, 790.0, 824.0, 858.0, 892.0, 926.0, 960.0, 994.0, 1028.0, 1062.0, 1096.0]\n",
            "[43.0, 77.0, 111.0, 145.0, 179.0, 213.0, 247.0, 281.0, 315.0, 349.0, 383.0, 417.0, 451.0, 485.0, 519.0, 553.0, 587.0, 621.0, 655.0, 689.0, 723.0, 757.0, 791.0, 825.0, 859.0, 893.0, 927.0, 961.0, 995.0, 1029.0, 1063.0, 1097.0, 43.0, 77.0, 111.0, 145.0, 179.0, 213.0, 247.0, 281.0, 315.0, 349.0, 383.0, 417.0, 451.0, 485.0, 519.0, 553.0, 587.0, 621.0, 655.0, 689.0, 723.0, 757.0, 791.0, 825.0, 859.0, 893.0, 927.0, 961.0, 995.0, 1029.0, 1063.0, 1097.0, 43.0, 77.0, 111.0, 145.0, 179.0, 213.0, 247.0, 281.0, 315.0, 349.0, 383.0, 417.0, 451.0, 485.0, 519.0, 553.0, 587.0, 621.0, 655.0, 689.0, 723.0, 757.0, 791.0, 825.0, 859.0, 893.0, 927.0, 961.0, 995.0, 1029.0, 1063.0, 1097.0]\n",
            "[44.0, 78.0, 112.0, 146.0, 180.0, 214.0, 248.0, 282.0, 316.0, 350.0, 384.0, 418.0, 452.0, 486.0, 520.0, 554.0, 588.0, 622.0, 656.0, 690.0, 724.0, 758.0, 792.0, 826.0, 860.0, 894.0, 928.0, 962.0, 996.0, 1030.0, 1064.0, 1098.0, 44.0, 78.0, 112.0, 146.0, 180.0, 214.0, 248.0, 282.0, 316.0, 350.0, 384.0, 418.0, 452.0, 486.0, 520.0, 554.0, 588.0, 622.0, 656.0, 690.0, 724.0, 758.0, 792.0, 826.0, 860.0, 894.0, 928.0, 962.0, 996.0, 1030.0, 1064.0, 1098.0, 44.0, 78.0, 112.0, 146.0, 180.0, 214.0, 248.0, 282.0, 316.0, 350.0, 384.0, 418.0, 452.0, 486.0, 520.0, 554.0, 588.0, 622.0, 656.0, 690.0, 724.0, 758.0, 792.0, 826.0, 860.0, 894.0, 928.0, 962.0, 996.0, 1030.0, 1064.0, 1098.0]\n",
            "[45.0, 79.0, 113.0, 147.0, 181.0, 215.0, 249.0, 283.0, 317.0, 351.0, 385.0, 419.0, 453.0, 487.0, 521.0, 555.0, 589.0, 623.0, 657.0, 691.0, 725.0, 759.0, 793.0, 827.0, 861.0, 895.0, 929.0, 963.0, 997.0, 1031.0, 1065.0, 1099.0, 45.0, 79.0, 113.0, 147.0, 181.0, 215.0, 249.0, 283.0, 317.0, 351.0, 385.0, 419.0, 453.0, 487.0, 521.0, 555.0, 589.0, 623.0, 657.0, 691.0, 725.0, 759.0, 793.0, 827.0, 861.0, 895.0, 929.0, 963.0, 997.0, 1031.0, 1065.0, 1099.0, 45.0, 79.0, 113.0, 147.0, 181.0, 215.0, 249.0, 283.0, 317.0, 351.0, 385.0, 419.0, 453.0, 487.0, 521.0, 555.0, 589.0, 623.0, 657.0, 691.0, 725.0, 759.0, 793.0, 827.0, 861.0, 895.0, 929.0, 963.0, 997.0, 1031.0, 1065.0, 1099.0]\n",
            "[46.0, 80.0, 114.0, 148.0, 182.0, 216.0, 250.0, 284.0, 318.0, 352.0, 386.0, 420.0, 454.0, 488.0, 522.0, 556.0, 590.0, 624.0, 658.0, 692.0, 726.0, 760.0, 794.0, 828.0, 862.0, 896.0, 930.0, 964.0, 998.0, 1032.0, 1066.0, 1100.0, 46.0, 80.0, 114.0, 148.0, 182.0, 216.0, 250.0, 284.0, 318.0, 352.0, 386.0, 420.0, 454.0, 488.0, 522.0, 556.0, 590.0, 624.0, 658.0, 692.0, 726.0, 760.0, 794.0, 828.0, 862.0, 896.0, 930.0, 964.0, 998.0, 1032.0, 1066.0, 1100.0, 46.0, 80.0, 114.0, 148.0, 182.0, 216.0, 250.0, 284.0, 318.0, 352.0, 386.0, 420.0, 454.0, 488.0, 522.0, 556.0, 590.0, 624.0, 658.0, 692.0, 726.0, 760.0, 794.0, 828.0, 862.0, 896.0, 930.0, 964.0, 998.0, 1032.0, 1066.0, 1100.0]\n",
            "[47.0, 81.0, 115.0, 149.0, 183.0, 217.0, 251.0, 285.0, 319.0, 353.0, 387.0, 421.0, 455.0, 489.0, 523.0, 557.0, 591.0, 625.0, 659.0, 693.0, 727.0, 761.0, 795.0, 829.0, 863.0, 897.0, 931.0, 965.0, 999.0, 1033.0, 1067.0, 1101.0, 47.0, 81.0, 115.0, 149.0, 183.0, 217.0, 251.0, 285.0, 319.0, 353.0, 387.0, 421.0, 455.0, 489.0, 523.0, 557.0, 591.0, 625.0, 659.0, 693.0, 727.0, 761.0, 795.0, 829.0, 863.0, 897.0, 931.0, 965.0, 999.0, 1033.0, 1067.0, 1101.0, 47.0, 81.0, 115.0, 149.0, 183.0, 217.0, 251.0, 285.0, 319.0, 353.0, 387.0, 421.0, 455.0, 489.0, 523.0, 557.0, 591.0, 625.0, 659.0, 693.0, 727.0, 761.0, 795.0, 829.0, 863.0, 897.0, 931.0, 965.0, 999.0, 1033.0, 1067.0, 1101.0]\n",
            "[48.0, 82.0, 116.0, 150.0, 184.0, 218.0, 252.0, 286.0, 320.0, 354.0, 388.0, 422.0, 456.0, 490.0, 524.0, 558.0, 592.0, 626.0, 660.0, 694.0, 728.0, 762.0, 796.0, 830.0, 864.0, 898.0, 932.0, 966.0, 1000.0, 1034.0, 1068.0, 1102.0, 48.0, 82.0, 116.0, 150.0, 184.0, 218.0, 252.0, 286.0, 320.0, 354.0, 388.0, 422.0, 456.0, 490.0, 524.0, 558.0, 592.0, 626.0, 660.0, 694.0, 728.0, 762.0, 796.0, 830.0, 864.0, 898.0, 932.0, 966.0, 1000.0, 1034.0, 1068.0, 1102.0, 48.0, 82.0, 116.0, 150.0, 184.0, 218.0, 252.0, 286.0, 320.0, 354.0, 388.0, 422.0, 456.0, 490.0, 524.0, 558.0, 592.0, 626.0, 660.0, 694.0, 728.0, 762.0, 796.0, 830.0, 864.0, 898.0, 932.0, 966.0, 1000.0, 1034.0, 1068.0, 1102.0]\n",
            "[49.0, 83.0, 117.0, 151.0, 185.0, 219.0, 253.0, 287.0, 321.0, 355.0, 389.0, 423.0, 457.0, 491.0, 525.0, 559.0, 593.0, 627.0, 661.0, 695.0, 729.0, 763.0, 797.0, 831.0, 865.0, 899.0, 933.0, 967.0, 1001.0, 1035.0, 1069.0, 1103.0, 49.0, 83.0, 117.0, 151.0, 185.0, 219.0, 253.0, 287.0, 321.0, 355.0, 389.0, 423.0, 457.0, 491.0, 525.0, 559.0, 593.0, 627.0, 661.0, 695.0, 729.0, 763.0, 797.0, 831.0, 865.0, 899.0, 933.0, 967.0, 1001.0, 1035.0, 1069.0, 1103.0, 49.0, 83.0, 117.0, 151.0, 185.0, 219.0, 253.0, 287.0, 321.0, 355.0, 389.0, 423.0, 457.0, 491.0, 525.0, 559.0, 593.0, 627.0, 661.0, 695.0, 729.0, 763.0, 797.0, 831.0, 865.0, 899.0, 933.0, 967.0, 1001.0, 1035.0, 1069.0, 1103.0]\n",
            "[50.0, 84.0, 118.0, 152.0, 186.0, 220.0, 254.0, 288.0, 322.0, 356.0, 390.0, 424.0, 458.0, 492.0, 526.0, 560.0, 594.0, 628.0, 662.0, 696.0, 730.0, 764.0, 798.0, 832.0, 866.0, 900.0, 934.0, 968.0, 1002.0, 1036.0, 1070.0, 1104.0, 50.0, 84.0, 118.0, 152.0, 186.0, 220.0, 254.0, 288.0, 322.0, 356.0, 390.0, 424.0, 458.0, 492.0, 526.0, 560.0, 594.0, 628.0, 662.0, 696.0, 730.0, 764.0, 798.0, 832.0, 866.0, 900.0, 934.0, 968.0, 1002.0, 1036.0, 1070.0, 1104.0, 50.0, 84.0, 118.0, 152.0, 186.0, 220.0, 254.0, 288.0, 322.0, 356.0, 390.0, 424.0, 458.0, 492.0, 526.0, 560.0, 594.0, 628.0, 662.0, 696.0, 730.0, 764.0, 798.0, 832.0, 866.0, 900.0, 934.0, 968.0, 1002.0, 1036.0, 1070.0, 1104.0]\n",
            "[51.0, 85.0, 119.0, 153.0, 187.0, 221.0, 255.0, 289.0, 323.0, 357.0, 391.0, 425.0, 459.0, 493.0, 527.0, 561.0, 595.0, 629.0, 663.0, 697.0, 731.0, 765.0, 799.0, 833.0, 867.0, 901.0, 935.0, 969.0, 1003.0, 1037.0, 1071.0, 1105.0, 51.0, 85.0, 119.0, 153.0, 187.0, 221.0, 255.0, 289.0, 323.0, 357.0, 391.0, 425.0, 459.0, 493.0, 527.0, 561.0, 595.0, 629.0, 663.0, 697.0, 731.0, 765.0, 799.0, 833.0, 867.0, 901.0, 935.0, 969.0, 1003.0, 1037.0, 1071.0, 1105.0, 51.0, 85.0, 119.0, 153.0, 187.0, 221.0, 255.0, 289.0, 323.0, 357.0, 391.0, 425.0, 459.0, 493.0, 527.0, 561.0, 595.0, 629.0, 663.0, 697.0, 731.0, 765.0, 799.0, 833.0, 867.0, 901.0, 935.0, 969.0, 1003.0, 1037.0, 1071.0, 1105.0]\n",
            "[52.0, 86.0, 120.0, 154.0, 188.0, 222.0, 256.0, 290.0, 324.0, 358.0, 392.0, 426.0, 460.0, 494.0, 528.0, 562.0, 596.0, 630.0, 664.0, 698.0, 732.0, 766.0, 800.0, 834.0, 868.0, 902.0, 936.0, 970.0, 1004.0, 1038.0, 1072.0, 1106.0, 52.0, 86.0, 120.0, 154.0, 188.0, 222.0, 256.0, 290.0, 324.0, 358.0, 392.0, 426.0, 460.0, 494.0, 528.0, 562.0, 596.0, 630.0, 664.0, 698.0, 732.0, 766.0, 800.0, 834.0, 868.0, 902.0, 936.0, 970.0, 1004.0, 1038.0, 1072.0, 1106.0, 52.0, 86.0, 120.0, 154.0, 188.0, 222.0, 256.0, 290.0, 324.0, 358.0, 392.0, 426.0, 460.0, 494.0, 528.0, 562.0, 596.0, 630.0, 664.0, 698.0, 732.0, 766.0, 800.0, 834.0, 868.0, 902.0, 936.0, 970.0, 1004.0, 1038.0, 1072.0, 1106.0]\n",
            "[53.0, 87.0, 121.0, 155.0, 189.0, 223.0, 257.0, 291.0, 325.0, 359.0, 393.0, 427.0, 461.0, 495.0, 529.0, 563.0, 597.0, 631.0, 665.0, 699.0, 733.0, 767.0, 801.0, 835.0, 869.0, 903.0, 937.0, 971.0, 1005.0, 1039.0, 1073.0, 1107.0, 53.0, 87.0, 121.0, 155.0, 189.0, 223.0, 257.0, 291.0, 325.0, 359.0, 393.0, 427.0, 461.0, 495.0, 529.0, 563.0, 597.0, 631.0, 665.0, 699.0, 733.0, 767.0, 801.0, 835.0, 869.0, 903.0, 937.0, 971.0, 1005.0, 1039.0, 1073.0, 1107.0, 53.0, 87.0, 121.0, 155.0, 189.0, 223.0, 257.0, 291.0, 325.0, 359.0, 393.0, 427.0, 461.0, 495.0, 529.0, 563.0, 597.0, 631.0, 665.0, 699.0, 733.0, 767.0, 801.0, 835.0, 869.0, 903.0, 937.0, 971.0, 1005.0, 1039.0, 1073.0, 1107.0]\n",
            "[54.0, 88.0, 122.0, 156.0, 190.0, 224.0, 258.0, 292.0, 326.0, 360.0, 394.0, 428.0, 462.0, 496.0, 530.0, 564.0, 598.0, 632.0, 666.0, 700.0, 734.0, 768.0, 802.0, 836.0, 870.0, 904.0, 938.0, 972.0, 1006.0, 1040.0, 1074.0, 1108.0, 54.0, 88.0, 122.0, 156.0, 190.0, 224.0, 258.0, 292.0, 326.0, 360.0, 394.0, 428.0, 462.0, 496.0, 530.0, 564.0, 598.0, 632.0, 666.0, 700.0, 734.0, 768.0, 802.0, 836.0, 870.0, 904.0, 938.0, 972.0, 1006.0, 1040.0, 1074.0, 1108.0, 54.0, 88.0, 122.0, 156.0, 190.0, 224.0, 258.0, 292.0, 326.0, 360.0, 394.0, 428.0, 462.0, 496.0, 530.0, 564.0, 598.0, 632.0, 666.0, 700.0, 734.0, 768.0, 802.0, 836.0, 870.0, 904.0, 938.0, 972.0, 1006.0, 1040.0, 1074.0, 1108.0]\n",
            "[55.0, 89.0, 123.0, 157.0, 191.0, 225.0, 259.0, 293.0, 327.0, 361.0, 395.0, 429.0, 463.0, 497.0, 531.0, 565.0, 599.0, 633.0, 667.0, 701.0, 735.0, 769.0, 803.0, 837.0, 871.0, 905.0, 939.0, 973.0, 1007.0, 1041.0, 1075.0, 1109.0, 55.0, 89.0, 123.0, 157.0, 191.0, 225.0, 259.0, 293.0, 327.0, 361.0, 395.0, 429.0, 463.0, 497.0, 531.0, 565.0, 599.0, 633.0, 667.0, 701.0, 735.0, 769.0, 803.0, 837.0, 871.0, 905.0, 939.0, 973.0, 1007.0, 1041.0, 1075.0, 1109.0, 55.0, 89.0, 123.0, 157.0, 191.0, 225.0, 259.0, 293.0, 327.0, 361.0, 395.0, 429.0, 463.0, 497.0, 531.0, 565.0, 599.0, 633.0, 667.0, 701.0, 735.0, 769.0, 803.0, 837.0, 871.0, 905.0, 939.0, 973.0, 1007.0, 1041.0, 1075.0, 1109.0]\n",
            "[56.0, 90.0, 124.0, 158.0, 192.0, 226.0, 260.0, 294.0, 328.0, 362.0, 396.0, 430.0, 464.0, 498.0, 532.0, 566.0, 600.0, 634.0, 668.0, 702.0, 736.0, 770.0, 804.0, 838.0, 872.0, 906.0, 940.0, 974.0, 1008.0, 1042.0, 1076.0, 1110.0, 56.0, 90.0, 124.0, 158.0, 192.0, 226.0, 260.0, 294.0, 328.0, 362.0, 396.0, 430.0, 464.0, 498.0, 532.0, 566.0, 600.0, 634.0, 668.0, 702.0, 736.0, 770.0, 804.0, 838.0, 872.0, 906.0, 940.0, 974.0, 1008.0, 1042.0, 1076.0, 1110.0, 56.0, 90.0, 124.0, 158.0, 192.0, 226.0, 260.0, 294.0, 328.0, 362.0, 396.0, 430.0, 464.0, 498.0, 532.0, 566.0, 600.0, 634.0, 668.0, 702.0, 736.0, 770.0, 804.0, 838.0, 872.0, 906.0, 940.0, 974.0, 1008.0, 1042.0, 1076.0, 1110.0]\n",
            "[57.0, 91.0, 125.0, 159.0, 193.0, 227.0, 261.0, 295.0, 329.0, 363.0, 397.0, 431.0, 465.0, 499.0, 533.0, 567.0, 601.0, 635.0, 669.0, 703.0, 737.0, 771.0, 805.0, 839.0, 873.0, 907.0, 941.0, 975.0, 1009.0, 1043.0, 1077.0, 1111.0, 57.0, 91.0, 125.0, 159.0, 193.0, 227.0, 261.0, 295.0, 329.0, 363.0, 397.0, 431.0, 465.0, 499.0, 533.0, 567.0, 601.0, 635.0, 669.0, 703.0, 737.0, 771.0, 805.0, 839.0, 873.0, 907.0, 941.0, 975.0, 1009.0, 1043.0, 1077.0, 1111.0, 57.0, 91.0, 125.0, 159.0, 193.0, 227.0, 261.0, 295.0, 329.0, 363.0, 397.0, 431.0, 465.0, 499.0, 533.0, 567.0, 601.0, 635.0, 669.0, 703.0, 737.0, 771.0, 805.0, 839.0, 873.0, 907.0, 941.0, 975.0, 1009.0, 1043.0, 1077.0, 1111.0]\n",
            "[58.0, 92.0, 126.0, 160.0, 194.0, 228.0, 262.0, 296.0, 330.0, 364.0, 398.0, 432.0, 466.0, 500.0, 534.0, 568.0, 602.0, 636.0, 670.0, 704.0, 738.0, 772.0, 806.0, 840.0, 874.0, 908.0, 942.0, 976.0, 1010.0, 1044.0, 1078.0, 1112.0, 58.0, 92.0, 126.0, 160.0, 194.0, 228.0, 262.0, 296.0, 330.0, 364.0, 398.0, 432.0, 466.0, 500.0, 534.0, 568.0, 602.0, 636.0, 670.0, 704.0, 738.0, 772.0, 806.0, 840.0, 874.0, 908.0, 942.0, 976.0, 1010.0, 1044.0, 1078.0, 1112.0, 58.0, 92.0, 126.0, 160.0, 194.0, 228.0, 262.0, 296.0, 330.0, 364.0, 398.0, 432.0, 466.0, 500.0, 534.0, 568.0, 602.0, 636.0, 670.0, 704.0, 738.0, 772.0, 806.0, 840.0, 874.0, 908.0, 942.0, 976.0, 1010.0, 1044.0, 1078.0, 1112.0]\n",
            "[59.0, 93.0, 127.0, 161.0, 195.0, 229.0, 263.0, 297.0, 331.0, 365.0, 399.0, 433.0, 467.0, 501.0, 535.0, 569.0, 603.0, 637.0, 671.0, 705.0, 739.0, 773.0, 807.0, 841.0, 875.0, 909.0, 943.0, 977.0, 1011.0, 1045.0, 1079.0, 1113.0, 59.0, 93.0, 127.0, 161.0, 195.0, 229.0, 263.0, 297.0, 331.0, 365.0, 399.0, 433.0, 467.0, 501.0, 535.0, 569.0, 603.0, 637.0, 671.0, 705.0, 739.0, 773.0, 807.0, 841.0, 875.0, 909.0, 943.0, 977.0, 1011.0, 1045.0, 1079.0, 1113.0, 59.0, 93.0, 127.0, 161.0, 195.0, 229.0, 263.0, 297.0, 331.0, 365.0, 399.0, 433.0, 467.0, 501.0, 535.0, 569.0, 603.0, 637.0, 671.0, 705.0, 739.0, 773.0, 807.0, 841.0, 875.0, 909.0, 943.0, 977.0, 1011.0, 1045.0, 1079.0, 1113.0]\n",
            "[60.0, 94.0, 128.0, 162.0, 196.0, 230.0, 264.0, 298.0, 332.0, 366.0, 400.0, 434.0, 468.0, 502.0, 536.0, 570.0, 604.0, 638.0, 672.0, 706.0, 740.0, 774.0, 808.0, 842.0, 876.0, 910.0, 944.0, 978.0, 1012.0, 1046.0, 1080.0, 1114.0, 60.0, 94.0, 128.0, 162.0, 196.0, 230.0, 264.0, 298.0, 332.0, 366.0, 400.0, 434.0, 468.0, 502.0, 536.0, 570.0, 604.0, 638.0, 672.0, 706.0, 740.0, 774.0, 808.0, 842.0, 876.0, 910.0, 944.0, 978.0, 1012.0, 1046.0, 1080.0, 1114.0, 60.0, 94.0, 128.0, 162.0, 196.0, 230.0, 264.0, 298.0, 332.0, 366.0, 400.0, 434.0, 468.0, 502.0, 536.0, 570.0, 604.0, 638.0, 672.0, 706.0, 740.0, 774.0, 808.0, 842.0, 876.0, 910.0, 944.0, 978.0, 1012.0, 1046.0, 1080.0, 1114.0]\n",
            "[61.0, 95.0, 129.0, 163.0, 197.0, 231.0, 265.0, 299.0, 333.0, 367.0, 401.0, 435.0, 469.0, 503.0, 537.0, 571.0, 605.0, 639.0, 673.0, 707.0, 741.0, 775.0, 809.0, 843.0, 877.0, 911.0, 945.0, 979.0, 1013.0, 1047.0, 1081.0, 1115.0, 61.0, 95.0, 129.0, 163.0, 197.0, 231.0, 265.0, 299.0, 333.0, 367.0, 401.0, 435.0, 469.0, 503.0, 537.0, 571.0, 605.0, 639.0, 673.0, 707.0, 741.0, 775.0, 809.0, 843.0, 877.0, 911.0, 945.0, 979.0, 1013.0, 1047.0, 1081.0, 1115.0, 61.0, 95.0, 129.0, 163.0, 197.0, 231.0, 265.0, 299.0, 333.0, 367.0, 401.0, 435.0, 469.0, 503.0, 537.0, 571.0, 605.0, 639.0, 673.0, 707.0, 741.0, 775.0, 809.0, 843.0, 877.0, 911.0, 945.0, 979.0, 1013.0, 1047.0, 1081.0, 1115.0]\n",
            "[62.0, 96.0, 130.0, 164.0, 198.0, 232.0, 266.0, 300.0, 334.0, 368.0, 402.0, 436.0, 470.0, 504.0, 538.0, 572.0, 606.0, 640.0, 674.0, 708.0, 742.0, 776.0, 810.0, 844.0, 878.0, 912.0, 946.0, 980.0, 1014.0, 1048.0, 1082.0, 1116.0, 62.0, 96.0, 130.0, 164.0, 198.0, 232.0, 266.0, 300.0, 334.0, 368.0, 402.0, 436.0, 470.0, 504.0, 538.0, 572.0, 606.0, 640.0, 674.0, 708.0, 742.0, 776.0, 810.0, 844.0, 878.0, 912.0, 946.0, 980.0, 1014.0, 1048.0, 1082.0, 1116.0, 62.0, 96.0, 130.0, 164.0, 198.0, 232.0, 266.0, 300.0, 334.0, 368.0, 402.0, 436.0, 470.0, 504.0, 538.0, 572.0, 606.0, 640.0, 674.0, 708.0, 742.0, 776.0, 810.0, 844.0, 878.0, 912.0, 946.0, 980.0, 1014.0, 1048.0, 1082.0, 1116.0]\n",
            "[63.0, 97.0, 131.0, 165.0, 199.0, 233.0, 267.0, 301.0, 335.0, 369.0, 403.0, 437.0, 471.0, 505.0, 539.0, 573.0, 607.0, 641.0, 675.0, 709.0, 743.0, 777.0, 811.0, 845.0, 879.0, 913.0, 947.0, 981.0, 1015.0, 1049.0, 1083.0, 1117.0, 63.0, 97.0, 131.0, 165.0, 199.0, 233.0, 267.0, 301.0, 335.0, 369.0, 403.0, 437.0, 471.0, 505.0, 539.0, 573.0, 607.0, 641.0, 675.0, 709.0, 743.0, 777.0, 811.0, 845.0, 879.0, 913.0, 947.0, 981.0, 1015.0, 1049.0, 1083.0, 1117.0, 63.0, 97.0, 131.0, 165.0, 199.0, 233.0, 267.0, 301.0, 335.0, 369.0, 403.0, 437.0, 471.0, 505.0, 539.0, 573.0, 607.0, 641.0, 675.0, 709.0, 743.0, 777.0, 811.0, 845.0, 879.0, 913.0, 947.0, 981.0, 1015.0, 1049.0, 1083.0, 1117.0]\n",
            "[64.0, 98.0, 132.0, 166.0, 200.0, 234.0, 268.0, 302.0, 336.0, 370.0, 404.0, 438.0, 472.0, 506.0, 540.0, 574.0, 608.0, 642.0, 676.0, 710.0, 744.0, 778.0, 812.0, 846.0, 880.0, 914.0, 948.0, 982.0, 1016.0, 1050.0, 1084.0, 1118.0, 64.0, 98.0, 132.0, 166.0, 200.0, 234.0, 268.0, 302.0, 336.0, 370.0, 404.0, 438.0, 472.0, 506.0, 540.0, 574.0, 608.0, 642.0, 676.0, 710.0, 744.0, 778.0, 812.0, 846.0, 880.0, 914.0, 948.0, 982.0, 1016.0, 1050.0, 1084.0, 1118.0, 64.0, 98.0, 132.0, 166.0, 200.0, 234.0, 268.0, 302.0, 336.0, 370.0, 404.0, 438.0, 472.0, 506.0, 540.0, 574.0, 608.0, 642.0, 676.0, 710.0, 744.0, 778.0, 812.0, 846.0, 880.0, 914.0, 948.0, 982.0, 1016.0, 1050.0, 1084.0, 1118.0]\n",
            "[65.0, 99.0, 133.0, 167.0, 201.0, 235.0, 269.0, 303.0, 337.0, 371.0, 405.0, 439.0, 473.0, 507.0, 541.0, 575.0, 609.0, 643.0, 677.0, 711.0, 745.0, 779.0, 813.0, 847.0, 881.0, 915.0, 949.0, 983.0, 1017.0, 1051.0, 1085.0, 1119.0, 65.0, 99.0, 133.0, 167.0, 201.0, 235.0, 269.0, 303.0, 337.0, 371.0, 405.0, 439.0, 473.0, 507.0, 541.0, 575.0, 609.0, 643.0, 677.0, 711.0, 745.0, 779.0, 813.0, 847.0, 881.0, 915.0, 949.0, 983.0, 1017.0, 1051.0, 1085.0, 1119.0, 65.0, 99.0, 133.0, 167.0, 201.0, 235.0, 269.0, 303.0, 337.0, 371.0, 405.0, 439.0, 473.0, 507.0, 541.0, 575.0, 609.0, 643.0, 677.0, 711.0, 745.0, 779.0, 813.0, 847.0, 881.0, 915.0, 949.0, 983.0, 1017.0, 1051.0, 1085.0, 1119.0]\n",
            "[66.0, 100.0, 134.0, 168.0, 202.0, 236.0, 270.0, 304.0, 338.0, 372.0, 406.0, 440.0, 474.0, 508.0, 542.0, 576.0, 610.0, 644.0, 678.0, 712.0, 746.0, 780.0, 814.0, 848.0, 882.0, 916.0, 950.0, 984.0, 1018.0, 1052.0, 1086.0, 1120.0, 66.0, 100.0, 134.0, 168.0, 202.0, 236.0, 270.0, 304.0, 338.0, 372.0, 406.0, 440.0, 474.0, 508.0, 542.0, 576.0, 610.0, 644.0, 678.0, 712.0, 746.0, 780.0, 814.0, 848.0, 882.0, 916.0, 950.0, 984.0, 1018.0, 1052.0, 1086.0, 1120.0, 66.0, 100.0, 134.0, 168.0, 202.0, 236.0, 270.0, 304.0, 338.0, 372.0, 406.0, 440.0, 474.0, 508.0, 542.0, 576.0, 610.0, 644.0, 678.0, 712.0, 746.0, 780.0, 814.0, 848.0, 882.0, 916.0, 950.0, 984.0, 1018.0, 1052.0, 1086.0, 1120.0]\n",
            "[35.0, 69.0, 103.0, 137.0, 171.0, 205.0, 239.0, 273.0, 307.0, 341.0, 375.0, 409.0, 443.0, 477.0, 511.0, 545.0, 579.0, 613.0, 647.0, 681.0, 715.0, 749.0, 783.0, 817.0, 851.0, 885.0, 919.0, 953.0, 987.0, 1021.0, 1055.0, 1089.0, 35.0, 69.0, 103.0, 137.0, 171.0, 205.0, 239.0, 273.0, 307.0, 341.0, 375.0, 409.0, 443.0, 477.0, 511.0, 545.0, 579.0, 613.0, 647.0, 681.0, 715.0, 749.0, 783.0, 817.0, 851.0, 885.0, 919.0, 953.0, 987.0, 1021.0, 1055.0, 1089.0, 35.0, 69.0, 103.0, 137.0, 171.0, 205.0, 239.0, 273.0, 307.0, 341.0, 375.0, 409.0, 443.0, 477.0, 511.0, 545.0, 579.0, 613.0, 647.0, 681.0, 715.0, 749.0, 783.0, 817.0, 851.0, 885.0, 919.0, 953.0, 987.0, 1021.0, 1055.0, 1089.0]\n",
            "[36.0, 70.0, 104.0, 138.0, 172.0, 206.0, 240.0, 274.0, 308.0, 342.0, 376.0, 410.0, 444.0, 478.0, 512.0, 546.0, 580.0, 614.0, 648.0, 682.0, 716.0, 750.0, 784.0, 818.0, 852.0, 886.0, 920.0, 954.0, 988.0, 1022.0, 1056.0, 1090.0, 36.0, 70.0, 104.0, 138.0, 172.0, 206.0, 240.0, 274.0, 308.0, 342.0, 376.0, 410.0, 444.0, 478.0, 512.0, 546.0, 580.0, 614.0, 648.0, 682.0, 716.0, 750.0, 784.0, 818.0, 852.0, 886.0, 920.0, 954.0, 988.0, 1022.0, 1056.0, 1090.0, 36.0, 70.0, 104.0, 138.0, 172.0, 206.0, 240.0, 274.0, 308.0, 342.0, 376.0, 410.0, 444.0, 478.0, 512.0, 546.0, 580.0, 614.0, 648.0, 682.0, 716.0, 750.0, 784.0, 818.0, 852.0, 886.0, 920.0, 954.0, 988.0, 1022.0, 1056.0, 1090.0]\n",
            "[37.0, 71.0, 105.0, 139.0, 173.0, 207.0, 241.0, 275.0, 309.0, 343.0, 377.0, 411.0, 445.0, 479.0, 513.0, 547.0, 581.0, 615.0, 649.0, 683.0, 717.0, 751.0, 785.0, 819.0, 853.0, 887.0, 921.0, 955.0, 989.0, 1023.0, 1057.0, 1091.0, 37.0, 71.0, 105.0, 139.0, 173.0, 207.0, 241.0, 275.0, 309.0, 343.0, 377.0, 411.0, 445.0, 479.0, 513.0, 547.0, 581.0, 615.0, 649.0, 683.0, 717.0, 751.0, 785.0, 819.0, 853.0, 887.0, 921.0, 955.0, 989.0, 1023.0, 1057.0, 1091.0, 37.0, 71.0, 105.0, 139.0, 173.0, 207.0, 241.0, 275.0, 309.0, 343.0, 377.0, 411.0, 445.0, 479.0, 513.0, 547.0, 581.0, 615.0, 649.0, 683.0, 717.0, 751.0, 785.0, 819.0, 853.0, 887.0, 921.0, 955.0, 989.0, 1023.0, 1057.0, 1091.0]\n",
            "[38.0, 72.0, 106.0, 140.0, 174.0, 208.0, 242.0, 276.0, 310.0, 344.0, 378.0, 412.0, 446.0, 480.0, 514.0, 548.0, 582.0, 616.0, 650.0, 684.0, 718.0, 752.0, 786.0, 820.0, 854.0, 888.0, 922.0, 956.0, 990.0, 1024.0, 1058.0, 1092.0, 38.0, 72.0, 106.0, 140.0, 174.0, 208.0, 242.0, 276.0, 310.0, 344.0, 378.0, 412.0, 446.0, 480.0, 514.0, 548.0, 582.0, 616.0, 650.0, 684.0, 718.0, 752.0, 786.0, 820.0, 854.0, 888.0, 922.0, 956.0, 990.0, 1024.0, 1058.0, 1092.0, 38.0, 72.0, 106.0, 140.0, 174.0, 208.0, 242.0, 276.0, 310.0, 344.0, 378.0, 412.0, 446.0, 480.0, 514.0, 548.0, 582.0, 616.0, 650.0, 684.0, 718.0, 752.0, 786.0, 820.0, 854.0, 888.0, 922.0, 956.0, 990.0, 1024.0, 1058.0, 1092.0]\n",
            "[39.0, 73.0, 107.0, 141.0, 175.0, 209.0, 243.0, 277.0, 311.0, 345.0, 379.0, 413.0, 447.0, 481.0, 515.0, 549.0, 583.0, 617.0, 651.0, 685.0, 719.0, 753.0, 787.0, 821.0, 855.0, 889.0, 923.0, 957.0, 991.0, 1025.0, 1059.0, 1093.0, 39.0, 73.0, 107.0, 141.0, 175.0, 209.0, 243.0, 277.0, 311.0, 345.0, 379.0, 413.0, 447.0, 481.0, 515.0, 549.0, 583.0, 617.0, 651.0, 685.0, 719.0, 753.0, 787.0, 821.0, 855.0, 889.0, 923.0, 957.0, 991.0, 1025.0, 1059.0, 1093.0, 39.0, 73.0, 107.0, 141.0, 175.0, 209.0, 243.0, 277.0, 311.0, 345.0, 379.0, 413.0, 447.0, 481.0, 515.0, 549.0, 583.0, 617.0, 651.0, 685.0, 719.0, 753.0, 787.0, 821.0, 855.0, 889.0, 923.0, 957.0, 991.0, 1025.0, 1059.0, 1093.0]\n",
            "[40.0, 74.0, 108.0, 142.0, 176.0, 210.0, 244.0, 278.0, 312.0, 346.0, 380.0, 414.0, 448.0, 482.0, 516.0, 550.0, 584.0, 618.0, 652.0, 686.0, 720.0, 754.0, 788.0, 822.0, 856.0, 890.0, 924.0, 958.0, 992.0, 1026.0, 1060.0, 1094.0, 40.0, 74.0, 108.0, 142.0, 176.0, 210.0, 244.0, 278.0, 312.0, 346.0, 380.0, 414.0, 448.0, 482.0, 516.0, 550.0, 584.0, 618.0, 652.0, 686.0, 720.0, 754.0, 788.0, 822.0, 856.0, 890.0, 924.0, 958.0, 992.0, 1026.0, 1060.0, 1094.0, 40.0, 74.0, 108.0, 142.0, 176.0, 210.0, 244.0, 278.0, 312.0, 346.0, 380.0, 414.0, 448.0, 482.0, 516.0, 550.0, 584.0, 618.0, 652.0, 686.0, 720.0, 754.0, 788.0, 822.0, 856.0, 890.0, 924.0, 958.0, 992.0, 1026.0, 1060.0, 1094.0]\n",
            "[41.0, 75.0, 109.0, 143.0, 177.0, 211.0, 245.0, 279.0, 313.0, 347.0, 381.0, 415.0, 449.0, 483.0, 517.0, 551.0, 585.0, 619.0, 653.0, 687.0, 721.0, 755.0, 789.0, 823.0, 857.0, 891.0, 925.0, 959.0, 993.0, 1027.0, 1061.0, 1095.0, 41.0, 75.0, 109.0, 143.0, 177.0, 211.0, 245.0, 279.0, 313.0, 347.0, 381.0, 415.0, 449.0, 483.0, 517.0, 551.0, 585.0, 619.0, 653.0, 687.0, 721.0, 755.0, 789.0, 823.0, 857.0, 891.0, 925.0, 959.0, 993.0, 1027.0, 1061.0, 1095.0, 41.0, 75.0, 109.0, 143.0, 177.0, 211.0, 245.0, 279.0, 313.0, 347.0, 381.0, 415.0, 449.0, 483.0, 517.0, 551.0, 585.0, 619.0, 653.0, 687.0, 721.0, 755.0, 789.0, 823.0, 857.0, 891.0, 925.0, 959.0, 993.0, 1027.0, 1061.0, 1095.0]\n",
            "[42.0, 76.0, 110.0, 144.0, 178.0, 212.0, 246.0, 280.0, 314.0, 348.0, 382.0, 416.0, 450.0, 484.0, 518.0, 552.0, 586.0, 620.0, 654.0, 688.0, 722.0, 756.0, 790.0, 824.0, 858.0, 892.0, 926.0, 960.0, 994.0, 1028.0, 1062.0, 1096.0, 42.0, 76.0, 110.0, 144.0, 178.0, 212.0, 246.0, 280.0, 314.0, 348.0, 382.0, 416.0, 450.0, 484.0, 518.0, 552.0, 586.0, 620.0, 654.0, 688.0, 722.0, 756.0, 790.0, 824.0, 858.0, 892.0, 926.0, 960.0, 994.0, 1028.0, 1062.0, 1096.0, 42.0, 76.0, 110.0, 144.0, 178.0, 212.0, 246.0, 280.0, 314.0, 348.0, 382.0, 416.0, 450.0, 484.0, 518.0, 552.0, 586.0, 620.0, 654.0, 688.0, 722.0, 756.0, 790.0, 824.0, 858.0, 892.0, 926.0, 960.0, 994.0, 1028.0, 1062.0, 1096.0]\n",
            "[43.0, 77.0, 111.0, 145.0, 179.0, 213.0, 247.0, 281.0, 315.0, 349.0, 383.0, 417.0, 451.0, 485.0, 519.0, 553.0, 587.0, 621.0, 655.0, 689.0, 723.0, 757.0, 791.0, 825.0, 859.0, 893.0, 927.0, 961.0, 995.0, 1029.0, 1063.0, 1097.0, 43.0, 77.0, 111.0, 145.0, 179.0, 213.0, 247.0, 281.0, 315.0, 349.0, 383.0, 417.0, 451.0, 485.0, 519.0, 553.0, 587.0, 621.0, 655.0, 689.0, 723.0, 757.0, 791.0, 825.0, 859.0, 893.0, 927.0, 961.0, 995.0, 1029.0, 1063.0, 1097.0, 43.0, 77.0, 111.0, 145.0, 179.0, 213.0, 247.0, 281.0, 315.0, 349.0, 383.0, 417.0, 451.0, 485.0, 519.0, 553.0, 587.0, 621.0, 655.0, 689.0, 723.0, 757.0, 791.0, 825.0, 859.0, 893.0, 927.0, 961.0, 995.0, 1029.0, 1063.0, 1097.0]\n",
            "[44.0, 78.0, 112.0, 146.0, 180.0, 214.0, 248.0, 282.0, 316.0, 350.0, 384.0, 418.0, 452.0, 486.0, 520.0, 554.0, 588.0, 622.0, 656.0, 690.0, 724.0, 758.0, 792.0, 826.0, 860.0, 894.0, 928.0, 962.0, 996.0, 1030.0, 1064.0, 1098.0, 44.0, 78.0, 112.0, 146.0, 180.0, 214.0, 248.0, 282.0, 316.0, 350.0, 384.0, 418.0, 452.0, 486.0, 520.0, 554.0, 588.0, 622.0, 656.0, 690.0, 724.0, 758.0, 792.0, 826.0, 860.0, 894.0, 928.0, 962.0, 996.0, 1030.0, 1064.0, 1098.0, 44.0, 78.0, 112.0, 146.0, 180.0, 214.0, 248.0, 282.0, 316.0, 350.0, 384.0, 418.0, 452.0, 486.0, 520.0, 554.0, 588.0, 622.0, 656.0, 690.0, 724.0, 758.0, 792.0, 826.0, 860.0, 894.0, 928.0, 962.0, 996.0, 1030.0, 1064.0, 1098.0]\n",
            "[45.0, 79.0, 113.0, 147.0, 181.0, 215.0, 249.0, 283.0, 317.0, 351.0, 385.0, 419.0, 453.0, 487.0, 521.0, 555.0, 589.0, 623.0, 657.0, 691.0, 725.0, 759.0, 793.0, 827.0, 861.0, 895.0, 929.0, 963.0, 997.0, 1031.0, 1065.0, 1099.0, 45.0, 79.0, 113.0, 147.0, 181.0, 215.0, 249.0, 283.0, 317.0, 351.0, 385.0, 419.0, 453.0, 487.0, 521.0, 555.0, 589.0, 623.0, 657.0, 691.0, 725.0, 759.0, 793.0, 827.0, 861.0, 895.0, 929.0, 963.0, 997.0, 1031.0, 1065.0, 1099.0, 45.0, 79.0, 113.0, 147.0, 181.0, 215.0, 249.0, 283.0, 317.0, 351.0, 385.0, 419.0, 453.0, 487.0, 521.0, 555.0, 589.0, 623.0, 657.0, 691.0, 725.0, 759.0, 793.0, 827.0, 861.0, 895.0, 929.0, 963.0, 997.0, 1031.0, 1065.0, 1099.0]\n",
            "[46.0, 80.0, 114.0, 148.0, 182.0, 216.0, 250.0, 284.0, 318.0, 352.0, 386.0, 420.0, 454.0, 488.0, 522.0, 556.0, 590.0, 624.0, 658.0, 692.0, 726.0, 760.0, 794.0, 828.0, 862.0, 896.0, 930.0, 964.0, 998.0, 1032.0, 1066.0, 1100.0, 46.0, 80.0, 114.0, 148.0, 182.0, 216.0, 250.0, 284.0, 318.0, 352.0, 386.0, 420.0, 454.0, 488.0, 522.0, 556.0, 590.0, 624.0, 658.0, 692.0, 726.0, 760.0, 794.0, 828.0, 862.0, 896.0, 930.0, 964.0, 998.0, 1032.0, 1066.0, 1100.0, 46.0, 80.0, 114.0, 148.0, 182.0, 216.0, 250.0, 284.0, 318.0, 352.0, 386.0, 420.0, 454.0, 488.0, 522.0, 556.0, 590.0, 624.0, 658.0, 692.0, 726.0, 760.0, 794.0, 828.0, 862.0, 896.0, 930.0, 964.0, 998.0, 1032.0, 1066.0, 1100.0]\n",
            "[47.0, 81.0, 115.0, 149.0, 183.0, 217.0, 251.0, 285.0, 319.0, 353.0, 387.0, 421.0, 455.0, 489.0, 523.0, 557.0, 591.0, 625.0, 659.0, 693.0, 727.0, 761.0, 795.0, 829.0, 863.0, 897.0, 931.0, 965.0, 999.0, 1033.0, 1067.0, 1101.0, 47.0, 81.0, 115.0, 149.0, 183.0, 217.0, 251.0, 285.0, 319.0, 353.0, 387.0, 421.0, 455.0, 489.0, 523.0, 557.0, 591.0, 625.0, 659.0, 693.0, 727.0, 761.0, 795.0, 829.0, 863.0, 897.0, 931.0, 965.0, 999.0, 1033.0, 1067.0, 1101.0, 47.0, 81.0, 115.0, 149.0, 183.0, 217.0, 251.0, 285.0, 319.0, 353.0, 387.0, 421.0, 455.0, 489.0, 523.0, 557.0, 591.0, 625.0, 659.0, 693.0, 727.0, 761.0, 795.0, 829.0, 863.0, 897.0, 931.0, 965.0, 999.0, 1033.0, 1067.0, 1101.0]\n",
            "[48.0, 82.0, 116.0, 150.0, 184.0, 218.0, 252.0, 286.0, 320.0, 354.0, 388.0, 422.0, 456.0, 490.0, 524.0, 558.0, 592.0, 626.0, 660.0, 694.0, 728.0, 762.0, 796.0, 830.0, 864.0, 898.0, 932.0, 966.0, 1000.0, 1034.0, 1068.0, 1102.0, 48.0, 82.0, 116.0, 150.0, 184.0, 218.0, 252.0, 286.0, 320.0, 354.0, 388.0, 422.0, 456.0, 490.0, 524.0, 558.0, 592.0, 626.0, 660.0, 694.0, 728.0, 762.0, 796.0, 830.0, 864.0, 898.0, 932.0, 966.0, 1000.0, 1034.0, 1068.0, 1102.0, 48.0, 82.0, 116.0, 150.0, 184.0, 218.0, 252.0, 286.0, 320.0, 354.0, 388.0, 422.0, 456.0, 490.0, 524.0, 558.0, 592.0, 626.0, 660.0, 694.0, 728.0, 762.0, 796.0, 830.0, 864.0, 898.0, 932.0, 966.0, 1000.0, 1034.0, 1068.0, 1102.0]\n",
            "[49.0, 83.0, 117.0, 151.0, 185.0, 219.0, 253.0, 287.0, 321.0, 355.0, 389.0, 423.0, 457.0, 491.0, 525.0, 559.0, 593.0, 627.0, 661.0, 695.0, 729.0, 763.0, 797.0, 831.0, 865.0, 899.0, 933.0, 967.0, 1001.0, 1035.0, 1069.0, 1103.0, 49.0, 83.0, 117.0, 151.0, 185.0, 219.0, 253.0, 287.0, 321.0, 355.0, 389.0, 423.0, 457.0, 491.0, 525.0, 559.0, 593.0, 627.0, 661.0, 695.0, 729.0, 763.0, 797.0, 831.0, 865.0, 899.0, 933.0, 967.0, 1001.0, 1035.0, 1069.0, 1103.0, 49.0, 83.0, 117.0, 151.0, 185.0, 219.0, 253.0, 287.0, 321.0, 355.0, 389.0, 423.0, 457.0, 491.0, 525.0, 559.0, 593.0, 627.0, 661.0, 695.0, 729.0, 763.0, 797.0, 831.0, 865.0, 899.0, 933.0, 967.0, 1001.0, 1035.0, 1069.0, 1103.0]\n",
            "[50.0, 84.0, 118.0, 152.0, 186.0, 220.0, 254.0, 288.0, 322.0, 356.0, 390.0, 424.0, 458.0, 492.0, 526.0, 560.0, 594.0, 628.0, 662.0, 696.0, 730.0, 764.0, 798.0, 832.0, 866.0, 900.0, 934.0, 968.0, 1002.0, 1036.0, 1070.0, 1104.0, 50.0, 84.0, 118.0, 152.0, 186.0, 220.0, 254.0, 288.0, 322.0, 356.0, 390.0, 424.0, 458.0, 492.0, 526.0, 560.0, 594.0, 628.0, 662.0, 696.0, 730.0, 764.0, 798.0, 832.0, 866.0, 900.0, 934.0, 968.0, 1002.0, 1036.0, 1070.0, 1104.0, 50.0, 84.0, 118.0, 152.0, 186.0, 220.0, 254.0, 288.0, 322.0, 356.0, 390.0, 424.0, 458.0, 492.0, 526.0, 560.0, 594.0, 628.0, 662.0, 696.0, 730.0, 764.0, 798.0, 832.0, 866.0, 900.0, 934.0, 968.0, 1002.0, 1036.0, 1070.0, 1104.0]\n",
            "[51.0, 85.0, 119.0, 153.0, 187.0, 221.0, 255.0, 289.0, 323.0, 357.0, 391.0, 425.0, 459.0, 493.0, 527.0, 561.0, 595.0, 629.0, 663.0, 697.0, 731.0, 765.0, 799.0, 833.0, 867.0, 901.0, 935.0, 969.0, 1003.0, 1037.0, 1071.0, 1105.0, 51.0, 85.0, 119.0, 153.0, 187.0, 221.0, 255.0, 289.0, 323.0, 357.0, 391.0, 425.0, 459.0, 493.0, 527.0, 561.0, 595.0, 629.0, 663.0, 697.0, 731.0, 765.0, 799.0, 833.0, 867.0, 901.0, 935.0, 969.0, 1003.0, 1037.0, 1071.0, 1105.0, 51.0, 85.0, 119.0, 153.0, 187.0, 221.0, 255.0, 289.0, 323.0, 357.0, 391.0, 425.0, 459.0, 493.0, 527.0, 561.0, 595.0, 629.0, 663.0, 697.0, 731.0, 765.0, 799.0, 833.0, 867.0, 901.0, 935.0, 969.0, 1003.0, 1037.0, 1071.0, 1105.0]\n",
            "[52.0, 86.0, 120.0, 154.0, 188.0, 222.0, 256.0, 290.0, 324.0, 358.0, 392.0, 426.0, 460.0, 494.0, 528.0, 562.0, 596.0, 630.0, 664.0, 698.0, 732.0, 766.0, 800.0, 834.0, 868.0, 902.0, 936.0, 970.0, 1004.0, 1038.0, 1072.0, 1106.0, 52.0, 86.0, 120.0, 154.0, 188.0, 222.0, 256.0, 290.0, 324.0, 358.0, 392.0, 426.0, 460.0, 494.0, 528.0, 562.0, 596.0, 630.0, 664.0, 698.0, 732.0, 766.0, 800.0, 834.0, 868.0, 902.0, 936.0, 970.0, 1004.0, 1038.0, 1072.0, 1106.0, 52.0, 86.0, 120.0, 154.0, 188.0, 222.0, 256.0, 290.0, 324.0, 358.0, 392.0, 426.0, 460.0, 494.0, 528.0, 562.0, 596.0, 630.0, 664.0, 698.0, 732.0, 766.0, 800.0, 834.0, 868.0, 902.0, 936.0, 970.0, 1004.0, 1038.0, 1072.0, 1106.0]\n",
            "[53.0, 87.0, 121.0, 155.0, 189.0, 223.0, 257.0, 291.0, 325.0, 359.0, 393.0, 427.0, 461.0, 495.0, 529.0, 563.0, 597.0, 631.0, 665.0, 699.0, 733.0, 767.0, 801.0, 835.0, 869.0, 903.0, 937.0, 971.0, 1005.0, 1039.0, 1073.0, 1107.0, 53.0, 87.0, 121.0, 155.0, 189.0, 223.0, 257.0, 291.0, 325.0, 359.0, 393.0, 427.0, 461.0, 495.0, 529.0, 563.0, 597.0, 631.0, 665.0, 699.0, 733.0, 767.0, 801.0, 835.0, 869.0, 903.0, 937.0, 971.0, 1005.0, 1039.0, 1073.0, 1107.0, 53.0, 87.0, 121.0, 155.0, 189.0, 223.0, 257.0, 291.0, 325.0, 359.0, 393.0, 427.0, 461.0, 495.0, 529.0, 563.0, 597.0, 631.0, 665.0, 699.0, 733.0, 767.0, 801.0, 835.0, 869.0, 903.0, 937.0, 971.0, 1005.0, 1039.0, 1073.0, 1107.0]\n",
            "[54.0, 88.0, 122.0, 156.0, 190.0, 224.0, 258.0, 292.0, 326.0, 360.0, 394.0, 428.0, 462.0, 496.0, 530.0, 564.0, 598.0, 632.0, 666.0, 700.0, 734.0, 768.0, 802.0, 836.0, 870.0, 904.0, 938.0, 972.0, 1006.0, 1040.0, 1074.0, 1108.0, 54.0, 88.0, 122.0, 156.0, 190.0, 224.0, 258.0, 292.0, 326.0, 360.0, 394.0, 428.0, 462.0, 496.0, 530.0, 564.0, 598.0, 632.0, 666.0, 700.0, 734.0, 768.0, 802.0, 836.0, 870.0, 904.0, 938.0, 972.0, 1006.0, 1040.0, 1074.0, 1108.0, 54.0, 88.0, 122.0, 156.0, 190.0, 224.0, 258.0, 292.0, 326.0, 360.0, 394.0, 428.0, 462.0, 496.0, 530.0, 564.0, 598.0, 632.0, 666.0, 700.0, 734.0, 768.0, 802.0, 836.0, 870.0, 904.0, 938.0, 972.0, 1006.0, 1040.0, 1074.0, 1108.0]\n",
            "[55.0, 89.0, 123.0, 157.0, 191.0, 225.0, 259.0, 293.0, 327.0, 361.0, 395.0, 429.0, 463.0, 497.0, 531.0, 565.0, 599.0, 633.0, 667.0, 701.0, 735.0, 769.0, 803.0, 837.0, 871.0, 905.0, 939.0, 973.0, 1007.0, 1041.0, 1075.0, 1109.0, 55.0, 89.0, 123.0, 157.0, 191.0, 225.0, 259.0, 293.0, 327.0, 361.0, 395.0, 429.0, 463.0, 497.0, 531.0, 565.0, 599.0, 633.0, 667.0, 701.0, 735.0, 769.0, 803.0, 837.0, 871.0, 905.0, 939.0, 973.0, 1007.0, 1041.0, 1075.0, 1109.0, 55.0, 89.0, 123.0, 157.0, 191.0, 225.0, 259.0, 293.0, 327.0, 361.0, 395.0, 429.0, 463.0, 497.0, 531.0, 565.0, 599.0, 633.0, 667.0, 701.0, 735.0, 769.0, 803.0, 837.0, 871.0, 905.0, 939.0, 973.0, 1007.0, 1041.0, 1075.0, 1109.0]\n",
            "[56.0, 90.0, 124.0, 158.0, 192.0, 226.0, 260.0, 294.0, 328.0, 362.0, 396.0, 430.0, 464.0, 498.0, 532.0, 566.0, 600.0, 634.0, 668.0, 702.0, 736.0, 770.0, 804.0, 838.0, 872.0, 906.0, 940.0, 974.0, 1008.0, 1042.0, 1076.0, 1110.0, 56.0, 90.0, 124.0, 158.0, 192.0, 226.0, 260.0, 294.0, 328.0, 362.0, 396.0, 430.0, 464.0, 498.0, 532.0, 566.0, 600.0, 634.0, 668.0, 702.0, 736.0, 770.0, 804.0, 838.0, 872.0, 906.0, 940.0, 974.0, 1008.0, 1042.0, 1076.0, 1110.0, 56.0, 90.0, 124.0, 158.0, 192.0, 226.0, 260.0, 294.0, 328.0, 362.0, 396.0, 430.0, 464.0, 498.0, 532.0, 566.0, 600.0, 634.0, 668.0, 702.0, 736.0, 770.0, 804.0, 838.0, 872.0, 906.0, 940.0, 974.0, 1008.0, 1042.0, 1076.0, 1110.0]\n",
            "[57.0, 91.0, 125.0, 159.0, 193.0, 227.0, 261.0, 295.0, 329.0, 363.0, 397.0, 431.0, 465.0, 499.0, 533.0, 567.0, 601.0, 635.0, 669.0, 703.0, 737.0, 771.0, 805.0, 839.0, 873.0, 907.0, 941.0, 975.0, 1009.0, 1043.0, 1077.0, 1111.0, 57.0, 91.0, 125.0, 159.0, 193.0, 227.0, 261.0, 295.0, 329.0, 363.0, 397.0, 431.0, 465.0, 499.0, 533.0, 567.0, 601.0, 635.0, 669.0, 703.0, 737.0, 771.0, 805.0, 839.0, 873.0, 907.0, 941.0, 975.0, 1009.0, 1043.0, 1077.0, 1111.0, 57.0, 91.0, 125.0, 159.0, 193.0, 227.0, 261.0, 295.0, 329.0, 363.0, 397.0, 431.0, 465.0, 499.0, 533.0, 567.0, 601.0, 635.0, 669.0, 703.0, 737.0, 771.0, 805.0, 839.0, 873.0, 907.0, 941.0, 975.0, 1009.0, 1043.0, 1077.0, 1111.0]\n",
            "[58.0, 92.0, 126.0, 160.0, 194.0, 228.0, 262.0, 296.0, 330.0, 364.0, 398.0, 432.0, 466.0, 500.0, 534.0, 568.0, 602.0, 636.0, 670.0, 704.0, 738.0, 772.0, 806.0, 840.0, 874.0, 908.0, 942.0, 976.0, 1010.0, 1044.0, 1078.0, 1112.0, 58.0, 92.0, 126.0, 160.0, 194.0, 228.0, 262.0, 296.0, 330.0, 364.0, 398.0, 432.0, 466.0, 500.0, 534.0, 568.0, 602.0, 636.0, 670.0, 704.0, 738.0, 772.0, 806.0, 840.0, 874.0, 908.0, 942.0, 976.0, 1010.0, 1044.0, 1078.0, 1112.0, 58.0, 92.0, 126.0, 160.0, 194.0, 228.0, 262.0, 296.0, 330.0, 364.0, 398.0, 432.0, 466.0, 500.0, 534.0, 568.0, 602.0, 636.0, 670.0, 704.0, 738.0, 772.0, 806.0, 840.0, 874.0, 908.0, 942.0, 976.0, 1010.0, 1044.0, 1078.0, 1112.0]\n",
            "[59.0, 93.0, 127.0, 161.0, 195.0, 229.0, 263.0, 297.0, 331.0, 365.0, 399.0, 433.0, 467.0, 501.0, 535.0, 569.0, 603.0, 637.0, 671.0, 705.0, 739.0, 773.0, 807.0, 841.0, 875.0, 909.0, 943.0, 977.0, 1011.0, 1045.0, 1079.0, 1113.0, 59.0, 93.0, 127.0, 161.0, 195.0, 229.0, 263.0, 297.0, 331.0, 365.0, 399.0, 433.0, 467.0, 501.0, 535.0, 569.0, 603.0, 637.0, 671.0, 705.0, 739.0, 773.0, 807.0, 841.0, 875.0, 909.0, 943.0, 977.0, 1011.0, 1045.0, 1079.0, 1113.0, 59.0, 93.0, 127.0, 161.0, 195.0, 229.0, 263.0, 297.0, 331.0, 365.0, 399.0, 433.0, 467.0, 501.0, 535.0, 569.0, 603.0, 637.0, 671.0, 705.0, 739.0, 773.0, 807.0, 841.0, 875.0, 909.0, 943.0, 977.0, 1011.0, 1045.0, 1079.0, 1113.0]\n",
            "[60.0, 94.0, 128.0, 162.0, 196.0, 230.0, 264.0, 298.0, 332.0, 366.0, 400.0, 434.0, 468.0, 502.0, 536.0, 570.0, 604.0, 638.0, 672.0, 706.0, 740.0, 774.0, 808.0, 842.0, 876.0, 910.0, 944.0, 978.0, 1012.0, 1046.0, 1080.0, 1114.0, 60.0, 94.0, 128.0, 162.0, 196.0, 230.0, 264.0, 298.0, 332.0, 366.0, 400.0, 434.0, 468.0, 502.0, 536.0, 570.0, 604.0, 638.0, 672.0, 706.0, 740.0, 774.0, 808.0, 842.0, 876.0, 910.0, 944.0, 978.0, 1012.0, 1046.0, 1080.0, 1114.0, 60.0, 94.0, 128.0, 162.0, 196.0, 230.0, 264.0, 298.0, 332.0, 366.0, 400.0, 434.0, 468.0, 502.0, 536.0, 570.0, 604.0, 638.0, 672.0, 706.0, 740.0, 774.0, 808.0, 842.0, 876.0, 910.0, 944.0, 978.0, 1012.0, 1046.0, 1080.0, 1114.0]\n",
            "[61.0, 95.0, 129.0, 163.0, 197.0, 231.0, 265.0, 299.0, 333.0, 367.0, 401.0, 435.0, 469.0, 503.0, 537.0, 571.0, 605.0, 639.0, 673.0, 707.0, 741.0, 775.0, 809.0, 843.0, 877.0, 911.0, 945.0, 979.0, 1013.0, 1047.0, 1081.0, 1115.0, 61.0, 95.0, 129.0, 163.0, 197.0, 231.0, 265.0, 299.0, 333.0, 367.0, 401.0, 435.0, 469.0, 503.0, 537.0, 571.0, 605.0, 639.0, 673.0, 707.0, 741.0, 775.0, 809.0, 843.0, 877.0, 911.0, 945.0, 979.0, 1013.0, 1047.0, 1081.0, 1115.0, 61.0, 95.0, 129.0, 163.0, 197.0, 231.0, 265.0, 299.0, 333.0, 367.0, 401.0, 435.0, 469.0, 503.0, 537.0, 571.0, 605.0, 639.0, 673.0, 707.0, 741.0, 775.0, 809.0, 843.0, 877.0, 911.0, 945.0, 979.0, 1013.0, 1047.0, 1081.0, 1115.0]\n",
            "[62.0, 96.0, 130.0, 164.0, 198.0, 232.0, 266.0, 300.0, 334.0, 368.0, 402.0, 436.0, 470.0, 504.0, 538.0, 572.0, 606.0, 640.0, 674.0, 708.0, 742.0, 776.0, 810.0, 844.0, 878.0, 912.0, 946.0, 980.0, 1014.0, 1048.0, 1082.0, 1116.0, 62.0, 96.0, 130.0, 164.0, 198.0, 232.0, 266.0, 300.0, 334.0, 368.0, 402.0, 436.0, 470.0, 504.0, 538.0, 572.0, 606.0, 640.0, 674.0, 708.0, 742.0, 776.0, 810.0, 844.0, 878.0, 912.0, 946.0, 980.0, 1014.0, 1048.0, 1082.0, 1116.0, 62.0, 96.0, 130.0, 164.0, 198.0, 232.0, 266.0, 300.0, 334.0, 368.0, 402.0, 436.0, 470.0, 504.0, 538.0, 572.0, 606.0, 640.0, 674.0, 708.0, 742.0, 776.0, 810.0, 844.0, 878.0, 912.0, 946.0, 980.0, 1014.0, 1048.0, 1082.0, 1116.0]\n",
            "[63.0, 97.0, 131.0, 165.0, 199.0, 233.0, 267.0, 301.0, 335.0, 369.0, 403.0, 437.0, 471.0, 505.0, 539.0, 573.0, 607.0, 641.0, 675.0, 709.0, 743.0, 777.0, 811.0, 845.0, 879.0, 913.0, 947.0, 981.0, 1015.0, 1049.0, 1083.0, 1117.0, 63.0, 97.0, 131.0, 165.0, 199.0, 233.0, 267.0, 301.0, 335.0, 369.0, 403.0, 437.0, 471.0, 505.0, 539.0, 573.0, 607.0, 641.0, 675.0, 709.0, 743.0, 777.0, 811.0, 845.0, 879.0, 913.0, 947.0, 981.0, 1015.0, 1049.0, 1083.0, 1117.0, 63.0, 97.0, 131.0, 165.0, 199.0, 233.0, 267.0, 301.0, 335.0, 369.0, 403.0, 437.0, 471.0, 505.0, 539.0, 573.0, 607.0, 641.0, 675.0, 709.0, 743.0, 777.0, 811.0, 845.0, 879.0, 913.0, 947.0, 981.0, 1015.0, 1049.0, 1083.0, 1117.0]\n",
            "[64.0, 98.0, 132.0, 166.0, 200.0, 234.0, 268.0, 302.0, 336.0, 370.0, 404.0, 438.0, 472.0, 506.0, 540.0, 574.0, 608.0, 642.0, 676.0, 710.0, 744.0, 778.0, 812.0, 846.0, 880.0, 914.0, 948.0, 982.0, 1016.0, 1050.0, 1084.0, 1118.0, 64.0, 98.0, 132.0, 166.0, 200.0, 234.0, 268.0, 302.0, 336.0, 370.0, 404.0, 438.0, 472.0, 506.0, 540.0, 574.0, 608.0, 642.0, 676.0, 710.0, 744.0, 778.0, 812.0, 846.0, 880.0, 914.0, 948.0, 982.0, 1016.0, 1050.0, 1084.0, 1118.0, 64.0, 98.0, 132.0, 166.0, 200.0, 234.0, 268.0, 302.0, 336.0, 370.0, 404.0, 438.0, 472.0, 506.0, 540.0, 574.0, 608.0, 642.0, 676.0, 710.0, 744.0, 778.0, 812.0, 846.0, 880.0, 914.0, 948.0, 982.0, 1016.0, 1050.0, 1084.0, 1118.0]\n",
            "[65.0, 99.0, 133.0, 167.0, 201.0, 235.0, 269.0, 303.0, 337.0, 371.0, 405.0, 439.0, 473.0, 507.0, 541.0, 575.0, 609.0, 643.0, 677.0, 711.0, 745.0, 779.0, 813.0, 847.0, 881.0, 915.0, 949.0, 983.0, 1017.0, 1051.0, 1085.0, 1119.0, 65.0, 99.0, 133.0, 167.0, 201.0, 235.0, 269.0, 303.0, 337.0, 371.0, 405.0, 439.0, 473.0, 507.0, 541.0, 575.0, 609.0, 643.0, 677.0, 711.0, 745.0, 779.0, 813.0, 847.0, 881.0, 915.0, 949.0, 983.0, 1017.0, 1051.0, 1085.0, 1119.0, 65.0, 99.0, 133.0, 167.0, 201.0, 235.0, 269.0, 303.0, 337.0, 371.0, 405.0, 439.0, 473.0, 507.0, 541.0, 575.0, 609.0, 643.0, 677.0, 711.0, 745.0, 779.0, 813.0, 847.0, 881.0, 915.0, 949.0, 983.0, 1017.0, 1051.0, 1085.0, 1119.0]\n",
            "[66.0, 100.0, 134.0, 168.0, 202.0, 236.0, 270.0, 304.0, 338.0, 372.0, 406.0, 440.0, 474.0, 508.0, 542.0, 576.0, 610.0, 644.0, 678.0, 712.0, 746.0, 780.0, 814.0, 848.0, 882.0, 916.0, 950.0, 984.0, 1018.0, 1052.0, 1086.0, 1120.0, 66.0, 100.0, 134.0, 168.0, 202.0, 236.0, 270.0, 304.0, 338.0, 372.0, 406.0, 440.0, 474.0, 508.0, 542.0, 576.0, 610.0, 644.0, 678.0, 712.0, 746.0, 780.0, 814.0, 848.0, 882.0, 916.0, 950.0, 984.0, 1018.0, 1052.0, 1086.0, 1120.0, 66.0, 100.0, 134.0, 168.0, 202.0, 236.0, 270.0, 304.0, 338.0, 372.0, 406.0, 440.0, 474.0, 508.0, 542.0, 576.0, 610.0, 644.0, 678.0, 712.0, 746.0, 780.0, 814.0, 848.0, 882.0, 916.0, 950.0, 984.0, 1018.0, 1052.0, 1086.0, 1120.0]\n"
          ],
          "name": "stdout"
        }
      ]
    },
    {
      "cell_type": "code",
      "metadata": {
        "id": "D-h-KK56506r",
        "colab_type": "code",
        "colab": {}
      },
      "source": [
        "!rm -R uffgpu2019/"
      ],
      "execution_count": 0,
      "outputs": []
    },
    {
      "cell_type": "code",
      "metadata": {
        "id": "MLctDQM_Ca1m",
        "colab_type": "code",
        "outputId": "1f349f82-d2d8-431c-8e01-041f855b0b19",
        "colab": {
          "base_uri": "https://localhost:8080/",
          "height": 306
        }
      },
      "source": [
        "!nvidia-smi"
      ],
      "execution_count": 0,
      "outputs": [
        {
          "output_type": "stream",
          "text": [
            "Thu Dec  5 03:20:24 2019       \n",
            "+-----------------------------------------------------------------------------+\n",
            "| NVIDIA-SMI 440.33.01    Driver Version: 418.67       CUDA Version: 10.1     |\n",
            "|-------------------------------+----------------------+----------------------+\n",
            "| GPU  Name        Persistence-M| Bus-Id        Disp.A | Volatile Uncorr. ECC |\n",
            "| Fan  Temp  Perf  Pwr:Usage/Cap|         Memory-Usage | GPU-Util  Compute M. |\n",
            "|===============================+======================+======================|\n",
            "|   0  Tesla K80           Off  | 00000000:00:04.0 Off |                    0 |\n",
            "| N/A   36C    P8    27W / 149W |      0MiB / 11441MiB |      0%      Default |\n",
            "+-------------------------------+----------------------+----------------------+\n",
            "                                                                               \n",
            "+-----------------------------------------------------------------------------+\n",
            "| Processes:                                                       GPU Memory |\n",
            "|  GPU       PID   Type   Process name                             Usage      |\n",
            "|=============================================================================|\n",
            "|  No running processes found                                                 |\n",
            "+-----------------------------------------------------------------------------+\n"
          ],
          "name": "stdout"
        }
      ]
    },
    {
      "cell_type": "code",
      "metadata": {
        "id": "6Na-g0PlixZ_",
        "colab_type": "code",
        "outputId": "a4878ac3-16dd-4fa3-9c03-18330f7d7b41",
        "colab": {
          "base_uri": "https://localhost:8080/",
          "height": 136
        }
      },
      "source": [
        "!nvcc 2DstencilGPUSharedMemoryBlankBorderTimeSpaceSharingOpencvKarma.cu -o go `pkg-config --cflags --libs opencv` -w\n",
        "!./go 32 2 1"
      ],
      "execution_count": 0,
      "outputs": [
        {
          "output_type": "stream",
          "text": [
            "\n",
            " coefs \n",
            " 1.000000 0.500000\n",
            " coefs \n",
            "Unable to init server: Could not connect: Connection refused\n",
            "\n",
            "(orig:348): Gtk-\u001b[1;33mWARNING\u001b[0m **: \u001b[34m00:36:16.384\u001b[0m: cannot open display: \n"
          ],
          "name": "stdout"
        }
      ]
    }
  ]
}